{
 "cells": [
  {
   "cell_type": "markdown",
   "metadata": {},
   "source": [
    "# 目录\n",
    "    1. 网站的树结构\n",
    "    2. 深度优先算法和实现\n",
    "    3. 广度优先算法和实现"
   ]
  },
  {
   "attachments": {},
   "cell_type": "markdown",
   "metadata": {},
   "source": [
    "#### 网站url的结构图\n",
    "<img src='./1.png' width=500px>"
   ]
  },
  {
   "attachments": {},
   "cell_type": "markdown",
   "metadata": {},
   "source": [
    "#### 网站url链接的结构图\n",
    "<img src='./2.png' width=500px>\n",
    "\n",
    "介于网站url链接的结构，所以可能出现爬取过程中陷入死循环的情况\n",
    "1. 去重，把爬取过的链接放在已爬取过的list当中，当下次爬取时进行判断，就不会重复爬取同一个链接里的内容，不会形成环路"
   ]
  },
  {
   "attachments": {},
   "cell_type": "markdown",
   "metadata": {},
   "source": [
    "#### 深度优先和广度优先\n",
    "<img src='./3.png' width=500px>\n",
    "1. 深度优先输出：A, B, D, E, I, C, F, G, H(递归实现)\n",
    "<img src='./4.png' width=500px>\n",
    "2. 广度优先输出：A, B, C, D, E, F, G, H, I(队列实现)\n",
    "<img src='./5.png' width=500px>"
   ]
  },
  {
   "cell_type": "code",
   "execution_count": null,
   "metadata": {},
   "outputs": [],
   "source": []
  }
 ],
 "metadata": {
  "kernelspec": {
   "display_name": "Python 3",
   "language": "python",
   "name": "python3"
  },
  "language_info": {
   "codemirror_mode": {
    "name": "ipython",
    "version": 3
   },
   "file_extension": ".py",
   "mimetype": "text/x-python",
   "name": "python",
   "nbconvert_exporter": "python",
   "pygments_lexer": "ipython3",
   "version": "3.6.5"
  }
 },
 "nbformat": 4,
 "nbformat_minor": 2
}
