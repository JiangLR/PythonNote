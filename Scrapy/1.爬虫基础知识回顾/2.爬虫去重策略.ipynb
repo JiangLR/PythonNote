{
 "cells": [
  {
   "cell_type": "markdown",
   "metadata": {},
   "source": [
    "#### 爬虫去重策略\n",
    "1. 将访问过的url保存到数据库中(当获取下一个url时，就从数据库里查询这个url是否已经被获取过)\n",
    "2. 将访问过的url保存到set(内存)中，只需要O(1)的复杂度就可以查询到url，但是会占用大量内存  \n",
    "当信息条数为100000000条时->100000000\\*2byte\\*50个字符/1024/1024/1024=9G\n",
    "3. url经过md5等方法哈希后保存在set中(将字符缩减到固定的长度如16byte，scrapy采用的就是这种方式)\n",
    "4. 用bitmap方法，将访问过的url通过hash函数映射到某一位(8位，冲突会非常高)\n",
    "5. bloomfilter方法对bitmap进行改进，多重hash函数降低冲突"
   ]
  },
  {
   "cell_type": "code",
   "execution_count": null,
   "metadata": {},
   "outputs": [],
   "source": []
  }
 ],
 "metadata": {
  "kernelspec": {
   "display_name": "Python 3",
   "language": "python",
   "name": "python3"
  },
  "language_info": {
   "codemirror_mode": {
    "name": "ipython",
    "version": 3
   },
   "file_extension": ".py",
   "mimetype": "text/x-python",
   "name": "python",
   "nbconvert_exporter": "python",
   "pygments_lexer": "ipython3",
   "version": "3.6.5"
  }
 },
 "nbformat": 4,
 "nbformat_minor": 2
}
