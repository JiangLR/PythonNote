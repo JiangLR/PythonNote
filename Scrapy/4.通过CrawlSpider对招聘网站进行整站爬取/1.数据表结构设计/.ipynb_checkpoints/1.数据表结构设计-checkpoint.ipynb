{
 "cells": [
  {
   "cell_type": "markdown",
   "metadata": {},
   "source": [
    "1. 这个数据库表为了逻辑上提取的方便把拉勾网工资和发布时间都设定为了字符串\n",
    "2. 完善的数据库表结构设计应该设置salary_min/salary_max;日期应该设置为datetime"
   ]
  }
 ],
 "metadata": {
  "kernelspec": {
   "display_name": "Scrapy",
   "language": "python",
   "name": "scrapy"
  },
  "language_info": {
   "codemirror_mode": {
    "name": "ipython",
    "version": 3
   },
   "file_extension": ".py",
   "mimetype": "text/x-python",
   "name": "python",
   "nbconvert_exporter": "python",
   "pygments_lexer": "ipython3",
   "version": "3.5.5"
  }
 },
 "nbformat": 4,
 "nbformat_minor": 2
}
