{
 "cells": [
  {
   "cell_type": "markdown",
   "metadata": {},
   "source": [
    "1. 在setting.py中可以配置COOKIES_ENABLED(是否禁用cookies)\n",
    "    * 有些网站会根据我们的cookie来判断是否为爬虫,如果将cookie禁用掉,这些网站就无法对我们进行分析.但是对于那些必须传入cookie的网站则必须设置cookie为不禁用状态(比如知乎)\n",
    "2. 设置Scrapy爬取速度配置DOWNLOAD_DELAY\n",
    "3. 在不同Spider配置不同的setting\n",
    "    * 在某个Spider定义custom_settings变量,如果这个Spider定义了custom_settings变量,则会覆盖默认的setting\n",
    "    ```\n",
    "    class ZhihuSpider(scrapy.Spider):\n",
    "        custom_settings = {\n",
    "            \"COOKIES_ENABLED\": True\n",
    "        }\n",
    "    ```"
   ]
  }
 ],
 "metadata": {
  "kernelspec": {
   "display_name": "Scrapy",
   "language": "python",
   "name": "scrapy"
  },
  "language_info": {
   "codemirror_mode": {
    "name": "ipython",
    "version": 3
   },
   "file_extension": ".py",
   "mimetype": "text/x-python",
   "name": "python",
   "nbconvert_exporter": "python",
   "pygments_lexer": "ipython3",
   "version": "3.5.5"
  }
 },
 "nbformat": 4,
 "nbformat_minor": 2
}
