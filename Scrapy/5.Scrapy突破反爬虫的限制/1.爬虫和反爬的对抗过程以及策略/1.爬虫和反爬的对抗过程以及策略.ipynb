{
 "cells": [
  {
   "cell_type": "markdown",
   "metadata": {},
   "source": [
    "#### 基本概念\n",
    "1. 爬虫:自动获取网站数据的程序,关键是批量的获取\n",
    "2. 反爬虫:使用技术手段防止爬虫程序的方法\n",
    "3. 误伤:反爬虫技术奖普通用户识别为爬虫,如果误伤过高,效果再好也不能用\n",
    "    * 误伤最大的方法就是**禁止IP**, 禁止某一些访问过于频繁的IP\n",
    "    * 一般网站不太可能使用禁止IP访问的方法来反爬虫\n",
    "        * 容易对学校,网吧这类只有几个外部IP却主要由内部IP(内网)组成的网络影响较大\n",
    "        * IP大部分都是动态的,比如一个区域的IP都是动态分配的,如果禁止了某个IP,但这个IP又被重新分配给了另一台主机,则新的主机访问就会受限\n",
    "    * 网站大部分爬虫机制都是禁止IP在某一段时间的访问"
   ]
  },
  {
   "cell_type": "markdown",
   "metadata": {},
   "source": [
    "#### 爬虫和反爬虫对抗过程\n",
    "<img src='1.png' width=800> "
   ]
  }
 ],
 "metadata": {
  "kernelspec": {
   "display_name": "Scrapy",
   "language": "python",
   "name": "scrapy"
  },
  "language_info": {
   "codemirror_mode": {
    "name": "ipython",
    "version": 3
   },
   "file_extension": ".py",
   "mimetype": "text/x-python",
   "name": "python",
   "nbconvert_exporter": "python",
   "pygments_lexer": "ipython3",
   "version": "3.5.5"
  }
 },
 "nbformat": 4,
 "nbformat_minor": 2
}
