{
 "cells": [
  {
   "cell_type": "markdown",
   "metadata": {},
   "source": [
    "### Cookie 是什么\n",
    "1. Cookie 是浏览器访问服务器后，服务器传给浏览器的一段数据(JSON格式，键值对)。\n",
    "2. 浏览器需要保存这段数据，不得轻易删除。\n",
    "3. 此后每次浏览器访问该服务器，都必须带上这段数据。  \n",
    "Cookie 就是这么简单，这就是 Web 开发里 Cookie 的含义\n"
   ]
  },
  {
   "cell_type": "markdown",
   "metadata": {},
   "source": [
    "### 如何使用 Cookie\n",
    "Cookie 一般有两个作用。\n",
    "1. 第一个作用是识别用户身份。  \n",
    "    * 比如用户 A 用浏览器访问了 http://a.com，那么 http://a.com 的服务器就会立刻给 A 返回一段数据「uid=1」（这就是 Cookie）。当 A 再次访问 http://a.com 的其他页面时，就会附带上「uid=1」这段数据。  \n",
    "    * 同理，用户 B 用浏览器访问 http://a.com 时，http://a.com 发现 B 没有附带 uid 数据，就给 B 分配了一个新的 uid，为2，然后返回给 B 一段数据「uid=2」。B 之后访问 http://a.com 的时候，就会一直带上「uid=2」这段数据。借此，http://a.com 的服务器就能区分 A 和 B 两个用户了。\n",
    "2. 第二个作用是记录历史。\n",
    "    * 假设 http://a.com 是一个购物网站，当 A 在上面将商品 A1 、A2 加入购物车时，JS 可以改写 Cookie，改为「uid=1; cart=A1,A2」，表示购物车里有 A1 和 A2 两样商品了。这样一来，当用户关闭网页，过三天再打开网页的时候，依然可以看到 A1、A2 躺在购物车里，因为浏览器并不会无缘无故地删除这个 Cookie。借此，就达到里记录用户操作历史的目的了\n",
    "3. chrome中可以设置cookie是否保存在浏览器中,意思是如果退出浏览器,cookie将不会被保存(内存cookie);如果cookie被保存在本地(硬盘cookie),则下次chrome访问某个网站是会读取并发送本地硬盘上的cookie\n",
    "<img src='5.png'>"
   ]
  },
  {
   "cell_type": "markdown",
   "metadata": {},
   "source": [
    "### 为什么需要Cookie\n",
    "想象一下老师和学生的场景，一个大学老师，一学期一门课教的学生起码有几十个，那他总不可能记得住每个人的姓名吧（这就是HTTP协议的无状态性，我不会去把学生的姓名记住，因为这样太耗费脑细胞（太耗资源）），如果有一个学生问我要作业我又不知道他姓名怎么办。Cookie技术就应运而生，我会给每一个学生一个编号（在网络层面需要客户端先向服务器端发送请求，服务器会随即给客户端一个cookie），你下次问我要作业，请先告诉我你的编号（带上cookie），我按照编号给你作业。"
   ]
  },
  {
   "cell_type": "markdown",
   "metadata": {},
   "source": [
    "### Session(会话)\n",
    "对session解释非常清晰的博客http://www.cnblogs.com/bellkosmos/p/5237146.html\n",
    "0. 在计算机术语中，会话是指一个终端用户与交互系统进行通讯的过程，比如从输入账户密码进入操作系统到退出操作系统就是一个会话过程。会话较多用于网络上，TCP的三次握手就创建了一个会话，TCP关闭连接就是关闭会话。\n",
    "<img src='1.png' width=400px>\n",
    "1. id为既可以是用户的userid,也可以是任意一段随机字符串,作用是来标记用户\n",
    "2. 服务器生成sessionId和sessionData,并把sessionId发送给客户端,客户端把sessionId存放在本地Cookie中\n",
    "3. 客户端请求服务器时,把SessionId发送给服务器,服务器根据SessionId找到对应的sessionData,对sessionData进行解码读取相关的数据\n",
    "4. **在服务器端,建立很多的会话数据区（session数据区）,为每个session会话数据区分配唯一标识,将该唯一标识,分配给对应会话浏览器**\n",
    "<img src='6.png' width=500px>\n",
    "    * session数据区其实就是缓冲区,每个缓冲区有个对应的ID(SessionId),每次客户端凭借着SessionId去对应的session数据区(缓冲区)去获取数据\n",
    "    * sessionId可以简单理解成对客户端账号密码的加密所生成的字符串"
   ]
  },
  {
   "cell_type": "markdown",
   "metadata": {},
   "source": [
    "### session和cookie有什么区别呢？\n",
    " * 想象一下，有一个A同学，编号为1；B同学，编号为2。A同学看B同学很不爽，想从老师这拿走B的作业搞破坏，A同学就去问老师要作业，然后要作业的时候跟老师说我的编号是2,老师就把编号2，也就是B同学的作业给A了。\n",
    " * 总要避免这种情况的发生吧\n",
    "    * Seesion技术就应运而生了，cookie技术的一个很大的问题在于，cookie 中的所有数据在客户端就可以被修改。这就意味着数据非常容易被伪造，一些重要的数据就不能存放在 cookie 中。\n",
    "    * 那么session技术的作用可以理解为：老师为了避免这种情况的发生，开学的时候给每个人都拍了一张照，每次学生来拿作业的时候除了要报上自己的编号，老师还要依据照片来判别学生编号和照片能不能对应起来，如果不能就不给作业；\n",
    "    * 说到这，seesion其实是存放在服务器端的（照片总得存放在老师这把），而cookie是存放在用户也就是浏览器这边的（每次要作业就得报上自己的编号）\n",
    "#### cookie:<img src='2.png'>\n",
    "#### session:<img src='3.png' width=800px><img src='4.png' width=800px>\n",
    "    1. session_key:sessionId\n",
    "    2. session_data:用户加密的信息\n",
    "    3. expire_date:session:过期时间\n",
    "## 总结:\n",
    "<img src='1.png' width=400px>\n",
    "1. cookie是本地的一种状态(存储机制),是存储在浏览器上的,跟服务器是没有关系的,在本地存储键值对(存储在某个域名之下的,比如登陆百度的账号密码被存放在位于baidu.com域名下的cookie中,每个域名下的key-value是不能相互访问的)\n",
    "2. cookie因为其不安全性不能把所有信息都存放在本地,服务器在返回Id的时候运用到了session的机制:根据用户名和密码生成随机字符串,这个字符串是有过期时间的。sessionId是存放在服务器上的,服务器把sessionId发送给客户端,客户端把sessionId存放在cookie中,在做下一次请求的时候把sessionId带回给服务器,服务器对sessionId进行解析并对用户进行标记"
   ]
  },
  {
   "cell_type": "code",
   "execution_count": null,
   "metadata": {},
   "outputs": [],
   "source": []
  }
 ],
 "metadata": {
  "kernelspec": {
   "display_name": "Scrapy",
   "language": "python",
   "name": "scrapy"
  },
  "language_info": {
   "codemirror_mode": {
    "name": "ipython",
    "version": 3
   },
   "file_extension": ".py",
   "mimetype": "text/x-python",
   "name": "python",
   "nbconvert_exporter": "python",
   "pygments_lexer": "ipython3",
   "version": "3.5.5"
  }
 },
 "nbformat": 4,
 "nbformat_minor": 2
}
