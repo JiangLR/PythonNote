{
 "cells": [
  {
   "cell_type": "markdown",
   "metadata": {},
   "source": [
    "1. PIPELINE可以拦截item，之后可以对item进行诸如保存到数据库或者任何我们想要保存的地方之类的操作\n",
    "    * 针对item对象的操作方法体被定义在PIPELINE类中的process_item()方法里\n",
    "2. 创建一个PIPLINE，功能为把item以JSON格式进行保存\n",
    "```\n",
    "import codecs\n",
    "import json\n",
    "class JsonWithEncodingPipeline(object):\n",
    "    # 自定义json文件的导出\n",
    "    def __init__(self):\n",
    "        self.file = codecs.open('article.json', 'w', encoding=\"utf-8\")\n",
    "\n",
    "    def process_item(self, item, spider):\n",
    "        lines = json.dumps(dict(item), ensure_ascii=False) + \"\\n\"\n",
    "        self.file.write(lines)\n",
    "        return item\n",
    "\n",
    "    def spider_closed(self, spider):\n",
    "        self.file.close()\n",
    "```\n",
    "    * codecs.open()和普通的open()相比,codecs.open()能帮我们处理编码方面的繁杂工作\n",
    "    * lines = json.dumps(dict(item), ensure_ascii=False)\n",
    "        * json.dumps():把Python中的dict类型转换成JSON类型\n",
    "        * json.loads():把JSON类型转换成Python中的dict类型\n",
    "        * ensure_ascii=False:确保在导入中文以及其他字符编码时不会出错\n",
    "3. 在PIPLINE处理完item之后不要忘记返回item"
   ]
  },
  {
   "cell_type": "markdown",
   "metadata": {},
   "source": [
    "1. Scrapy本身提供了把item导出成各种文件格式的机制\n",
    "    * scrapy.exporters\n",
    "    ```\n",
    "    __all__ = ['BaseItemExporter', 'PprintItemExporter', 'PickleItemExporter',\n",
    "           'CsvItemExporter', 'XmlItemExporter', 'JsonLinesItemExporter',\n",
    "           'JsonItemExporter', 'MarshalItemExporter']\n",
    "    ```\n",
    "    * 以from scrapy.exporters import JsonItemExporter为例\n",
    "    ```\n",
    "    from scrapy.exporters import JsonItemExporter\n",
    "    \n",
    "    class JsonExporterPipleline(object):\n",
    "        # 调用scrapy提供的json export导出json文件\n",
    "        def __init__(self):\n",
    "            self.file = open('articleexport.json', 'wb')\n",
    "            self.exporter = JsonItemExporter(self.file, encoding=\"utf-8\", ensure_ascii=False)\n",
    "            self.exporter.start_exporting()\n",
    "\n",
    "        def close_spider(self, spider):\n",
    "            self.exporter.finish_exporting()\n",
    "            self.file.close()\n",
    "\n",
    "        def process_item(self, item, spider):\n",
    "            self.exporter.export_item(item)\n",
    "            return item\n",
    "    ```"
   ]
  }
 ],
 "metadata": {
  "kernelspec": {
   "display_name": "Scrapy",
   "language": "python",
   "name": "scrapy"
  },
  "language_info": {
   "codemirror_mode": {
    "name": "ipython",
    "version": 3
   },
   "file_extension": ".py",
   "mimetype": "text/x-python",
   "name": "python",
   "nbconvert_exporter": "python",
   "pygments_lexer": "ipython3",
   "version": "3.5.5"
  }
 },
 "nbformat": 4,
 "nbformat_minor": 2
}
