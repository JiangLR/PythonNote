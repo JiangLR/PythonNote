{
 "cells": [
  {
   "cell_type": "markdown",
   "metadata": {},
   "source": [
    "### 通过Xpath从HTML当中提取所需要的值\n",
    "* scrapy基于lxml提供了通过xpath或者css选择器来提取数证据的接口"
   ]
  },
  {
   "cell_type": "markdown",
   "metadata": {},
   "source": [
    "<img scr='1.png' width=300px>"
   ]
  },
  {
   "cell_type": "markdown",
   "metadata": {},
   "source": [
    "<img scr='1.png' width=300px>"
   ]
  },
  {
   "cell_type": "markdown",
   "metadata": {},
   "source": [
    "<img src='1.png' width=500>"
   ]
  },
  {
   "cell_type": "markdown",
   "metadata": {},
   "source": [
    "<img scr='1.png' width=300px>"
   ]
  },
  {
   "cell_type": "markdown",
   "metadata": {},
   "source": [
    "<img src='2.png' width=500>\n",
    "1. /article  (一般html源文件的根节点都是\\<html\\>,但是xml中可以自定义根元素)\n",
    "2. /article/a  (这个a是子元素，不是后代元素)"
   ]
  },
  {
   "cell_type": "markdown",
   "metadata": {},
   "source": [
    "<img src='3.png' width=500>"
   ]
  },
  {
   "cell_type": "markdown",
   "metadata": {},
   "source": [
    "<img src='4.png' width=500>"
   ]
  },
  {
   "cell_type": "code",
   "execution_count": null,
   "metadata": {},
   "outputs": [],
   "source": []
  },
  {
   "cell_type": "markdown",
   "metadata": {},
   "source": [
    "#### 爬取http://blog.jobbole.com/110287/"
   ]
  },
  {
   "cell_type": "markdown",
   "metadata": {},
   "source": [
    "<img src='5.png' width=500>"
   ]
  },
  {
   "cell_type": "markdown",
   "metadata": {},
   "source": [
    "##### 获取标题，并分析元素路径\n",
    "<img src='9.png' width=1000>"
   ]
  },
  {
   "cell_type": "code",
   "execution_count": 4,
   "metadata": {},
   "outputs": [
    {
     "data": {
      "text/plain": [
       "'\\n获取标题\\nresponse.xpath返回一个SelectorList\\n\\nclass JobboleSpider(scrapy.Spider):\\n    name = \\'jobbole\\'\\n    allowed_domains = [\\'blog.jobbole.com\\']\\n    start_urls = [\\'http://blog.jobbole.com/110287/\\']\\n\\n    def parse(self, response):\\n        re_selector = response.xpath(\\'//*[@id=\"post-110287\"]/div[1]/h1\\')  # Chrome\\n        re2_selector = response.xpath(\\'/html/body/div[3]/div[3]/div[1]/div[1]/h1\\')   # Firefox   \\n        pass\\n'"
      ]
     },
     "execution_count": 4,
     "metadata": {},
     "output_type": "execute_result"
    }
   ],
   "source": [
    "'''\n",
    "获取标题\n",
    "response.xpath返回一个SelectorList\n",
    "\n",
    "class JobboleSpider(scrapy.Spider):\n",
    "    name = 'jobbole'\n",
    "    allowed_domains = ['blog.jobbole.com']\n",
    "    start_urls = ['http://blog.jobbole.com/110287/']\n",
    "\n",
    "    def parse(self, response):\n",
    "        re_selector = response.xpath('//*[@id=\"post-110287\"]/div[1]/h1')  # Chrome\n",
    "        re2_selector = response.xpath('/html/body/div[3]/div[3]/div[1]/div[1]/h1')   # Firefox   \n",
    "        pass\n",
    "'''"
   ]
  },
  {
   "cell_type": "markdown",
   "metadata": {},
   "source": [
    "<img src='6.png' width=1000>\n",
    "<img src='7.png' width=1000>"
   ]
  },
  {
   "cell_type": "markdown",
   "metadata": {},
   "source": [
    "可以发现下面的那行代码产生的SelectorList内容为空  \n",
    "___\n",
    "替换代码  \n",
    "re2_selector = response.xpath('/html/body/div[1]/div[3]/div[1]/div[1]/h1')\n",
    "<img src='8.png' width=1000>\n",
    "\n",
    "1. 之所以把div\\[3\\]换成div\\[1\\]就能正确显示，是因为网页源代码里，h1所在位置是存在于第一个div里的\n",
    "2. 之所以一开始分析的时候是div\\[3\\]是因为这些div元素是通过JS代码生成的，不是一开始就有的\n",
    "3. 写入xpath路径里的元素必须是源文件里一开始就有的，不能是通过JS生成的"
   ]
  },
  {
   "cell_type": "markdown",
   "metadata": {},
   "source": [
    "获取标题内容：通过text()  \n",
    "response.xpath('//*[@id=\"post-110287\"]/div[1]/h1/text()').extract()[0]  \n",
    "___\n",
    "另一种写法同样能选中标题  \n",
    "title= response.xpath('//div[@class=\"entry-header\"]/h1/text()').extract()[0] \n",
    "___\n",
    "一般来讲,获取第一个元素有一个特殊的方法：extract_first(\"\")  \n",
    "因为往往爬取的元素都是没有内容的，也就是extract()[0]为NULL，因此需要额外的异常处理  \n",
    "但是extract_first(\"\")自动为我们实现了异常处理，即我们不需要额外的编写异常处理函数\n",
    "___\n",
    "获取时间：extract()为提取内容，strip()为消去左右两边空字符和换行符，replace()为替换字符  \n",
    "create_time = response.xpath('//p[@class=\"entry-meta-hide-on-mobile\"]/text()').extract()[0].strip().replace('·', '').strip()  \n",
    "___  \n",
    "<img src='10.png' width=700>  \n",
    "获取点赞数：因为vote-post-up并不是唯一的一个class值，所以不能使用@class='...'的形式，只能使用函数的形式  \n",
    "contains(选取属性,属性值)  \n",
    "praise_num = int(response.xpath(\"//span[contains(@class, 'vote-post-up')]/h10/text()\").extract()[0])  \n",
    "___  \n",
    "获取收藏数：  \n",
    "response.xpath(\"//span[contains(@class, 'bookmark-btn')]/text()\").extract()[0]  \n",
    "Out[27]: ' 28 收藏'  \n",
    "这个字符串里既有数字也有字符，如果要提取数字，就必须使用正则表达式  \n",
    "```\n",
    "import re\n",
    "fav_num = response.xpath(\"//span[contains(@class, 'bookmark-btn')]/text()\").extract()[0]\n",
    "match_re = re.match('.*?(\\d+).*', 'fav_num')\n",
    "if match_re:\n",
    "    fav_num = match_re.group(1)\n",
    "```\n",
    "___\n",
    "获取评论数：\n",
    "```\n",
    "comments_num = response.xpath(\"//span[@href='#article-comment']/span/text()\").extract()[0]\n",
    "match_re = re.match('.*?(\\d+).*', 'comments_num')\n",
    "if match_re:\n",
    "    comments_num = match_re.group(1)\n",
    "```\n",
    "___\n",
    "获取tag：    \n",
    "* tag_list = response.xpath('//p[@class=\"entry-meta-hide-on-mobile\"]/a/text()').extract()  \n",
    "tag_list = [element for element in tag_list if not element.strip().endswith('评论')]  \n",
    "Out[18]: ['职场', '面试']  \n",
    "* tags = ','.join(tag_list)  \n",
    "Out[21]: '职场,面试'"
   ]
  },
  {
   "cell_type": "code",
   "execution_count": null,
   "metadata": {},
   "outputs": [],
   "source": []
  },
  {
   "cell_type": "markdown",
   "metadata": {},
   "source": [
    "Tips(在Shell命令行里调试scrapy代码，得先进入运行环境)：  \n",
    "* scrapy shell 域名"
   ]
  },
  {
   "cell_type": "code",
   "execution_count": null,
   "metadata": {},
   "outputs": [],
   "source": []
  }
 ],
 "metadata": {
  "kernelspec": {
   "display_name": "Scrapy",
   "language": "python",
   "name": "scrapy"
  },
  "language_info": {
   "codemirror_mode": {
    "name": "ipython",
    "version": 3
   },
   "file_extension": ".py",
   "mimetype": "text/x-python",
   "name": "python",
   "nbconvert_exporter": "python",
   "pygments_lexer": "ipython3",
   "version": "3.5.5"
  }
 },
 "nbformat": 4,
 "nbformat_minor": 2
}
