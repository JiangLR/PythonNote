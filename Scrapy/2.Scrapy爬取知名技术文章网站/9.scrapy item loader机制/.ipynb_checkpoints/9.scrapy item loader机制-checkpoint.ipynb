{
 "cells": [
  {
   "cell_type": "markdown",
   "metadata": {},
   "source": [
    " 1. 随着字段越来越多或者随着爬取的网站越来越多,这样就会写大量的CSS/XPATH提取规则,后期面对大量的提取规则不易于维护\n",
    " 2. Scrapy提供了ItemLoader机制,把维护工作变得更加简单\n",
    " 3. ItemLoader其实提供的是一种容器,比如可以配置Item中的其中某一个字段对应的CSS/XPATH规则来解析"
   ]
  },
  {
   "cell_type": "markdown",
   "metadata": {},
   "source": [
    "1. 导入ItemLoader\n",
    "    * from scrapy.loader import ItemLoader\n",
    "2. 通过item loader加载item\n",
    "```\n",
    "item_loader = ItemLoader(item=JobBoleArticleItem(), response=response)\n",
    "item_loader.add_css(\"title\", \".entry-header h1::text\")\n",
    "```\n",
    "ItemLoader类中有三个方法\n",
    "       * item_loader.add_css()\n",
    "       * item_loader.add_xpath()\n",
    "       * item_loader.add_value()\n",
    "3. 获取生成的item\n",
    "    ```\n",
    "    article_item = item_loader.load_item()\n",
    "    yield article_item\n",
    "    ```\n",
    "<img src='1.png'>\n",
    "4. 返回的是一个JobBoleArticleItem对象,这里存在两个问题\n",
    "    * 所有返回的值都是list类\n",
    "    * 没有对返回值进行过滤操作,比如评论为0没有正常显示默认值0而是显示' 评论'(即正则操作或者自定义操作)"
   ]
  },
  {
   "cell_type": "markdown",
   "metadata": {},
   "source": [
    "#### 上述问题的解决办法\n",
    "1. Item字段的Field()可以传入两个参数(input_processor, output_processor)\n",
    "```\n",
    "# 创建时间\n",
    "    create_date = scrapy.Field(\n",
    "        input_processor=MapCompose(date_convert),\n",
    "    )\n",
    "# 封面图本地存放路径\n",
    "    front_image_path = scrapy.Field(\n",
    "        output_processor=MapCompose(return_value)\n",
    "    )\n",
    "```\n",
    "    * input_processor:当该字段的值被传递进来的时候,对该值进行预处理,Scrapy提供默认的Processer=MapCompose\n",
    "        * from scrapy.loader.processors import MapCompose\n",
    "        * MapCompose(fun1, fun2, fun3...):可以传递任意多的函数,从左到右地对该字段进行预处理,fun1返回的值被fun2接收并处理...\n",
    "        * fun1(value):value就是item里的实际值\n",
    "        ```\n",
    "        def fun1(value):\n",
    "            value=xxxx\n",
    "            return value\n",
    "        def fun2(value):\n",
    "            value=xxxx\n",
    "            return value\n",
    "        input_processor=MapCompose(fun1, fun2)\n",
    "        ```\n",
    "2. 解决返回的value值都是list类型\n",
    "    * Scrapy提供了TakeFirst()\n",
    "    * from scrapy.loader.processors import TakeFirst\n",
    "    <img src='2.png'>\n",
    "    * 但是如果每个字段都需要TakeFirsrt(),又会显得代码重复\n",
    "    * 自定义ItemLoader专门实现TakeFirst():需要继承ItemLoader类\n",
    "    ```\n",
    "    class ArticleItemLoader(ItemLoader):\n",
    "        # 自定义itemloader\n",
    "        default_output_processor = TakeFirst()\n",
    "    ```\n",
    "    * 在主文件里实例化该自定义Item类\n",
    "        * item_loader = ArticleItemLoader(item=JobBoleArticleItem(), response=response)\n",
    "        <img src='3.png'>"
   ]
  }
 ],
 "metadata": {
  "kernelspec": {
   "display_name": "Scrapy",
   "language": "python",
   "name": "scrapy"
  },
  "language_info": {
   "codemirror_mode": {
    "name": "ipython",
    "version": 3
   },
   "file_extension": ".py",
   "mimetype": "text/x-python",
   "name": "python",
   "nbconvert_exporter": "python",
   "pygments_lexer": "ipython3",
   "version": "3.5.5"
  }
 },
 "nbformat": 4,
 "nbformat_minor": 2
}
