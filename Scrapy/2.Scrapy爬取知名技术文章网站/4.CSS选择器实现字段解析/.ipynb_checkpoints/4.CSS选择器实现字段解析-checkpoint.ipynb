{
 "cells": [
  {
   "cell_type": "markdown",
   "metadata": {},
   "source": [
    "#### 用xpath也好，css也罢均可\n",
    "<img src='11.png' width=500>\n",
    "<img src='12.png' width=500>\n",
    "<img src='13.png' width=500>\n",
    "___\n",
    "获取标题：  \n",
    "response.css('p.entry-header h1').extract()  \n",
    "Out[34]: ['<h1\\>2016 腾讯软件开发面试题（部分）</h1\\>']  \n",
    "response.css('p.entry-header h1::text').extract()  \n",
    "Out[35]: ['2016 腾讯软件开发面试题（部分）']\n",
    "___\n",
    "获取日期：  \n",
    "response.css('p.entry-meta-hide-on-mobile::text').extract()[0].strip().replace('·', '').strip()  \n",
    "Out[42]: '2017/02/18'  \n"
   ]
  },
  {
   "cell_type": "markdown",
   "metadata": {},
   "source": [
    "* css方法中获取标签内文本值的方法为'::text'\n",
    "    * response.css('p.entry-meta-hide-on-mobile::text').extract()\n",
    "* css方法中货获取标签内属性值的方法为'::attr(属性名字)'\n",
    "    * post_node.css(\"::attr(href)\").extract_first(\"\")"
   ]
  }
 ],
 "metadata": {
  "kernelspec": {
   "display_name": "Scrapy",
   "language": "python",
   "name": "scrapy"
  },
  "language_info": {
   "codemirror_mode": {
    "name": "ipython",
    "version": 3
   },
   "file_extension": ".py",
   "mimetype": "text/x-python",
   "name": "python",
   "nbconvert_exporter": "python",
   "pygments_lexer": "ipython3",
   "version": "3.5.5"
  }
 },
 "nbformat": 4,
 "nbformat_minor": 2
}
