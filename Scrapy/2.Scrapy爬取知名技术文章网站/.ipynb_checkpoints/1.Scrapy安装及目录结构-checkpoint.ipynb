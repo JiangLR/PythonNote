{
 "cells": [
  {
   "cell_type": "markdown",
   "metadata": {},
   "source": [
    "1. 用Scrapy默认模板创建工程\n",
    "    * scrapy startproject '工程文件名'"
   ]
  },
  {
   "cell_type": "code",
   "execution_count": 2,
   "metadata": {},
   "outputs": [
    {
     "data": {
      "text/plain": [
       "'\\n│  scrapy.cfg\\n│\\n└─ArticleSpider\\n    │  items.py\\n    │  middlewares.py\\n    │  pipelines.py\\n    │  settings.py\\n    │  __init__.py\\n    │\\n    ├─spiders\\n    │  │  __init__.py\\n    │  │\\n    │  └─__pycache__\\n    └─__pycache__\\n'"
      ]
     },
     "execution_count": 2,
     "metadata": {},
     "output_type": "execute_result"
    }
   ],
   "source": [
    "'''\n",
    "│  scrapy.cfg\n",
    "│\n",
    "└─ArticleSpider\n",
    "    │  items.py\n",
    "    │  middlewares.py\n",
    "    │  pipelines.py\n",
    "    │  settings.py\n",
    "    │  __init__.py\n",
    "    │\n",
    "    ├─spiders\n",
    "    │  │  __init__.py\n",
    "    │  │\n",
    "    │  └─__pycache__\n",
    "    └─__pycache__\n",
    "'''"
   ]
  },
  {
   "cell_type": "code",
   "execution_count": 3,
   "metadata": {},
   "outputs": [
    {
     "data": {
      "text/plain": [
       "'\\npipelines.py\\n做跟数据存储相关的地方\\n'"
      ]
     },
     "execution_count": 3,
     "metadata": {},
     "output_type": "execute_result"
    }
   ],
   "source": [
    "'''\n",
    "settings.py\n",
    "SPIDER_MODULES = ['ArticleSpider.spiders']     //表示爬虫存放的路径\n",
    "\n",
    "pipelines.py\n",
    "做跟数据存储相关的地方\n",
    "\n",
    "middlewares.py\n",
    "可以存放自定义的中间件\n",
    "\n",
    "items.py\n",
    "定义数据保存格式\n",
    "'''\n",
    "\n",
    "'''\n",
    "spiders\n",
    "存放爬虫的路径\n",
    "默认没有创建网站爬取模板\n",
    "'''"
   ]
  },
  {
   "cell_type": "code",
   "execution_count": null,
   "metadata": {},
   "outputs": [],
   "source": [
    "'''\n",
    "创建网站爬取模板\n",
    "首先先进入Scrapy主目录下\n",
    "cd 'Scrapy主目录'\n",
    "然后\n",
    "scrapy genspider '模板名' '网站域名'    这里的网站域名可以是子域名\n",
    "eg:\n",
    "    scrapy genspider jobbole blog.jobbole.com\n",
    "'''\n",
    "\n",
    "'''\n",
    "jobbole.py里的文件结构\n",
    "\n",
    "# -*- coding: utf-8 -*-\n",
    "import scrapy\n",
    "\n",
    "\n",
    "class JobboleSpider(scrapy.Spider):\n",
    "    name = 'jobbole'\n",
    "    allowed_domains = ['blog.jobbole.com']          允许的域名\n",
    "    start_urls = ['http://blog.jobbole.com/']       这个list里可以放入所有需要爬取的url地址\n",
    "\n",
    "    def parse(self, response):\n",
    "        pass\n",
    "'''"
   ]
  }
 ],
 "metadata": {
  "kernelspec": {
   "display_name": "Scrapy",
   "language": "python",
   "name": "scrapy"
  },
  "language_info": {
   "codemirror_mode": {
    "name": "ipython",
    "version": 3
   },
   "file_extension": ".py",
   "mimetype": "text/x-python",
   "name": "python",
   "nbconvert_exporter": "python",
   "pygments_lexer": "ipython3",
   "version": "3.5.5"
  }
 },
 "nbformat": 4,
 "nbformat_minor": 2
}
