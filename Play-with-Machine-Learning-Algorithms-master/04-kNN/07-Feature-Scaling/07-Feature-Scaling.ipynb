{
 "cells": [
  {
   "cell_type": "markdown",
   "metadata": {},
   "source": [
    "## 07 数据归一化处理"
   ]
  },
  {
   "cell_type": "code",
   "execution_count": 1,
   "metadata": {},
   "outputs": [],
   "source": [
    "import numpy as np\n",
    "import matplotlib.pyplot as plt"
   ]
  },
  {
   "cell_type": "markdown",
   "metadata": {},
   "source": [
    "### 最值归一化 Normalization"
   ]
  },
  {
   "cell_type": "code",
   "execution_count": 5,
   "metadata": {},
   "outputs": [],
   "source": [
    "x = np.random.randint(0, 100, 100)"
   ]
  },
  {
   "cell_type": "code",
   "execution_count": 6,
   "metadata": {},
   "outputs": [
    {
     "data": {
      "text/plain": [
       "array([67, 95, 80, 86, 69,  2, 20, 82, 79, 57, 65, 35, 17, 10, 35, 98, 63,\n",
       "       30, 52, 16, 75,  5,  6, 75, 45, 19, 13,  2, 52, 43, 28, 60, 20, 28,\n",
       "        0, 37, 78, 63, 52, 68, 89,  6, 66, 95, 75, 79, 45, 18, 42, 47, 73,\n",
       "       94, 55, 53, 79, 28, 79, 76, 81, 41, 38, 54, 17, 47,  1, 82, 84, 87,\n",
       "       24, 96, 83, 63, 67, 89, 64, 95, 24, 28, 58, 28, 18, 56,  9, 52, 77,\n",
       "       67, 31, 99, 60, 25, 54, 61, 76, 88,  6, 85, 59, 46, 28, 18])"
      ]
     },
     "execution_count": 6,
     "metadata": {},
     "output_type": "execute_result"
    }
   ],
   "source": [
    "x"
   ]
  },
  {
   "cell_type": "code",
   "execution_count": 7,
   "metadata": {},
   "outputs": [
    {
     "data": {
      "text/plain": [
       "array([0.67676768, 0.95959596, 0.80808081, 0.86868687, 0.6969697 ,\n",
       "       0.02020202, 0.2020202 , 0.82828283, 0.7979798 , 0.57575758,\n",
       "       0.65656566, 0.35353535, 0.17171717, 0.1010101 , 0.35353535,\n",
       "       0.98989899, 0.63636364, 0.3030303 , 0.52525253, 0.16161616,\n",
       "       0.75757576, 0.05050505, 0.06060606, 0.75757576, 0.45454545,\n",
       "       0.19191919, 0.13131313, 0.02020202, 0.52525253, 0.43434343,\n",
       "       0.28282828, 0.60606061, 0.2020202 , 0.28282828, 0.        ,\n",
       "       0.37373737, 0.78787879, 0.63636364, 0.52525253, 0.68686869,\n",
       "       0.8989899 , 0.06060606, 0.66666667, 0.95959596, 0.75757576,\n",
       "       0.7979798 , 0.45454545, 0.18181818, 0.42424242, 0.47474747,\n",
       "       0.73737374, 0.94949495, 0.55555556, 0.53535354, 0.7979798 ,\n",
       "       0.28282828, 0.7979798 , 0.76767677, 0.81818182, 0.41414141,\n",
       "       0.38383838, 0.54545455, 0.17171717, 0.47474747, 0.01010101,\n",
       "       0.82828283, 0.84848485, 0.87878788, 0.24242424, 0.96969697,\n",
       "       0.83838384, 0.63636364, 0.67676768, 0.8989899 , 0.64646465,\n",
       "       0.95959596, 0.24242424, 0.28282828, 0.58585859, 0.28282828,\n",
       "       0.18181818, 0.56565657, 0.09090909, 0.52525253, 0.77777778,\n",
       "       0.67676768, 0.31313131, 1.        , 0.60606061, 0.25252525,\n",
       "       0.54545455, 0.61616162, 0.76767677, 0.88888889, 0.06060606,\n",
       "       0.85858586, 0.5959596 , 0.46464646, 0.28282828, 0.18181818])"
      ]
     },
     "execution_count": 7,
     "metadata": {},
     "output_type": "execute_result"
    }
   ],
   "source": [
    "(x - np.min(x)) / (np.max(x) - np.min(x))"
   ]
  },
  {
   "cell_type": "code",
   "execution_count": 8,
   "metadata": {},
   "outputs": [],
   "source": [
    "X = np.random.randint(0, 100, (50, 2))"
   ]
  },
  {
   "cell_type": "code",
   "execution_count": 9,
   "metadata": {},
   "outputs": [],
   "source": [
    "X = np.array(X, dtype=float)"
   ]
  },
  {
   "cell_type": "code",
   "execution_count": 7,
   "metadata": {},
   "outputs": [
    {
     "data": {
      "text/plain": [
       "array([[  1.,   1.],\n",
       "       [ 89.,  95.],\n",
       "       [ 40.,   6.],\n",
       "       [ 24.,  50.],\n",
       "       [ 93.,  32.],\n",
       "       [ 46.,  74.],\n",
       "       [ 50.,  74.],\n",
       "       [ 89.,  25.],\n",
       "       [ 39.,  51.],\n",
       "       [ 54.,  79.]])"
      ]
     },
     "execution_count": 7,
     "metadata": {},
     "output_type": "execute_result"
    }
   ],
   "source": [
    "X[:10,:]"
   ]
  },
  {
   "cell_type": "code",
   "execution_count": 12,
   "metadata": {},
   "outputs": [],
   "source": [
    "X[:,0] = (X[:,0] - np.min(X[:,0])) / (np.max(X[:,0]) - np.min(X[:,0]))\n",
    "X[:,1] = (X[:,1] - np.min(X[:,1])) / (np.max(X[:,1]) - np.min(X[:,1]))"
   ]
  },
  {
   "cell_type": "code",
   "execution_count": 13,
   "metadata": {},
   "outputs": [
    {
     "data": {
      "text/plain": [
       "array([[0.73195876, 0.4       ],\n",
       "       [0.73195876, 0.50526316],\n",
       "       [1.        , 0.85263158],\n",
       "       [0.70103093, 0.96842105],\n",
       "       [0.89690722, 0.6       ],\n",
       "       [0.09278351, 0.88421053],\n",
       "       [0.03092784, 0.93684211],\n",
       "       [0.75257732, 0.95789474],\n",
       "       [0.53608247, 0.54736842],\n",
       "       [0.35051546, 0.16842105]])"
      ]
     },
     "execution_count": 13,
     "metadata": {},
     "output_type": "execute_result"
    }
   ],
   "source": [
    "X[:10,:]"
   ]
  },
  {
   "cell_type": "code",
   "execution_count": 14,
   "metadata": {},
   "outputs": [
    {
     "data": {
      "image/png": "[encoded data removed]",
      "text/plain": [
       "<Figure size 432x288 with 1 Axes>"
      ]
     },
     "metadata": {},
     "output_type": "display_data"
    }
   ],
   "source": [
    "plt.scatter(X[:,0], X[:,1])\n",
    "plt.show()"
   ]
  },
  {
   "cell_type": "code",
   "execution_count": 15,
   "metadata": {},
   "outputs": [
    {
     "data": {
      "text/plain": [
       "0.5272164948453608"
      ]
     },
     "execution_count": 15,
     "metadata": {},
     "output_type": "execute_result"
    }
   ],
   "source": [
    "np.mean(X[:,0])"
   ]
  },
  {
   "cell_type": "code",
   "execution_count": 16,
   "metadata": {},
   "outputs": [
    {
     "data": {
      "text/plain": [
       "0.2662909547258733"
      ]
     },
     "execution_count": 16,
     "metadata": {},
     "output_type": "execute_result"
    }
   ],
   "source": [
    "np.std(X[:,0])"
   ]
  },
  {
   "cell_type": "code",
   "execution_count": 17,
   "metadata": {},
   "outputs": [
    {
     "data": {
      "text/plain": [
       "0.5747368421052631"
      ]
     },
     "execution_count": 17,
     "metadata": {},
     "output_type": "execute_result"
    }
   ],
   "source": [
    "np.mean(X[:,1])"
   ]
  },
  {
   "cell_type": "code",
   "execution_count": 18,
   "metadata": {},
   "outputs": [
    {
     "data": {
      "text/plain": [
       "0.261502159649562"
      ]
     },
     "execution_count": 18,
     "metadata": {},
     "output_type": "execute_result"
    }
   ],
   "source": [
    "np.std(X[:,1])"
   ]
  },
  {
   "cell_type": "markdown",
   "metadata": {},
   "source": [
    "### 均值方差归一化 Standardization"
   ]
  },
  {
   "cell_type": "code",
   "execution_count": 19,
   "metadata": {},
   "outputs": [],
   "source": [
    "X2 = np.random.randint(0, 100, (50, 2))"
   ]
  },
  {
   "cell_type": "code",
   "execution_count": 20,
   "metadata": {},
   "outputs": [],
   "source": [
    "X2 = np.array(X2, dtype=float)"
   ]
  },
  {
   "cell_type": "code",
   "execution_count": 21,
   "metadata": {},
   "outputs": [
    {
     "data": {
      "text/plain": [
       "array([[14., 52.],\n",
       "       [84., 84.],\n",
       "       [86.,  8.],\n",
       "       [94., 60.],\n",
       "       [11., 12.],\n",
       "       [26., 90.],\n",
       "       [34., 60.],\n",
       "       [53., 51.],\n",
       "       [ 9., 93.],\n",
       "       [79., 48.]])"
      ]
     },
     "execution_count": 21,
     "metadata": {},
     "output_type": "execute_result"
    }
   ],
   "source": [
    "X2[:10,:]"
   ]
  },
  {
   "cell_type": "code",
   "execution_count": 22,
   "metadata": {},
   "outputs": [],
   "source": [
    "X2[:,0] = (X2[:,0] - np.mean(X2[:,0])) / np.std(X2[:,0])\n",
    "X2[:,1] = (X2[:,1] - np.mean(X2[:,1])) / np.std(X2[:,1])"
   ]
  },
  {
   "cell_type": "code",
   "execution_count": 23,
   "metadata": {},
   "outputs": [
    {
     "data": {
      "image/png": "[encoded data removed]",
      "text/plain": [
       "<Figure size 432x288 with 1 Axes>"
      ]
     },
     "metadata": {},
     "output_type": "display_data"
    }
   ],
   "source": [
    "plt.scatter(X2[:,0], X2[:,1])\n",
    "plt.show()"
   ]
  },
  {
   "cell_type": "code",
   "execution_count": 24,
   "metadata": {},
   "outputs": [
    {
     "data": {
      "text/plain": [
       "7.105427357601002e-17"
      ]
     },
     "execution_count": 24,
     "metadata": {},
     "output_type": "execute_result"
    }
   ],
   "source": [
    "np.mean(X2[:,0])"
   ]
  },
  {
   "cell_type": "code",
   "execution_count": 25,
   "metadata": {},
   "outputs": [
    {
     "data": {
      "text/plain": [
       "1.0"
      ]
     },
     "execution_count": 25,
     "metadata": {},
     "output_type": "execute_result"
    }
   ],
   "source": [
    "np.std(X2[:,0])"
   ]
  },
  {
   "cell_type": "code",
   "execution_count": 26,
   "metadata": {},
   "outputs": [
    {
     "data": {
      "text/plain": [
       "4.884981308350689e-17"
      ]
     },
     "execution_count": 26,
     "metadata": {},
     "output_type": "execute_result"
    }
   ],
   "source": [
    "np.mean(X2[:,1])"
   ]
  },
  {
   "cell_type": "code",
   "execution_count": 27,
   "metadata": {},
   "outputs": [
    {
     "data": {
      "text/plain": [
       "0.9999999999999999"
      ]
     },
     "execution_count": 27,
     "metadata": {},
     "output_type": "execute_result"
    }
   ],
   "source": [
    "np.std(X2[:,1])"
   ]
  }
 ],
 "metadata": {
  "kernelspec": {
   "display_name": "Python 3",
   "language": "python",
   "name": "python3"
  },
  "language_info": {
   "codemirror_mode": {
    "name": "ipython",
    "version": 3
   },
   "file_extension": ".py",
   "mimetype": "text/x-python",
   "name": "python",
   "nbconvert_exporter": "python",
   "pygments_lexer": "ipython3",
   "version": "3.6.5"
  }
 },
 "nbformat": 4,
 "nbformat_minor": 2
}
