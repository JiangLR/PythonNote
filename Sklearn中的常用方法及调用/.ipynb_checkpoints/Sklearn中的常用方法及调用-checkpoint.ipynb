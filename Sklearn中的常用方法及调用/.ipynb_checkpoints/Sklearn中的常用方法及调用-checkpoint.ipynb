{
 "cells": [
  {
   "cell_type": "markdown",
   "metadata": {},
   "source": [
    "### 1.分类\n",
    "1. from sklearn.model_selection import train_test_split  \n",
    "2. X_train, X_test, y_train, y_test = train_test_split(X, y, seed=666)"
   ]
  },
  {
   "cell_type": "markdown",
   "metadata": {},
   "source": [
    "### 2.KNN算法\n",
    "1. from sklearn.neighbors import KNeighborsClassifier\n",
    "2. kNN_classifier = KNeighborsClassifier(n_neighbors=6)\n",
    "3. kNN_classifier.fit(X_train, y_train)\n",
    "    * y_predict = kNN_classifier.predict(X_test)   预测值\n",
    "    * knn_clf.score(X_test, y_test)   准确度"
   ]
  },
  {
   "cell_type": "markdown",
   "metadata": {},
   "source": [
    "### 3.Grid Search\n",
    "1.\n",
    "```\n",
    "param_grid = [\n",
    "    {\n",
    "        'weights': ['uniform'], \n",
    "        'n_neighbors': [i for i in range(1, 11)]\n",
    "    },\n",
    "    {\n",
    "        'weights': ['distance'],\n",
    "        'n_neighbors': [i for i in range(1, 11)], \n",
    "        'p': [i for i in range(1, 6)]\n",
    "    }\n",
    "]\n",
    "```\n",
    "2. knn_clf = KNeighborsClassifier()\n",
    "3. from sklearn.model_selection import GridSearchCV\n",
    "4. grid_search = GridSearchCV(knn_clf, param_grid)\n",
    "5. grid_search.fit(X_train, y_train)\n",
    "    * grid_search.best_estimator_\n",
    "    * grid_search.best_score_\n",
    "    * grid_search.best_params_"
   ]
  },
  {
   "cell_type": "markdown",
   "metadata": {},
   "source": [
    "### 4.归一化(特征缩放)\n",
    "1. from sklearn.preprocessing import StandardScaler\n",
    "2. standardScalar = StandardScaler() \n",
    "3. standardScalar.fit(X_train)\n",
    "    * standardScalar.mean_   (均值)\n",
    "    * standardScalar.scale_   (标准差)\n",
    "4. X_train_standard = standardScalar.transform(X_train)   (对X_train进行归一化)\n",
    "5. 以KNN举例 knn_clf.fit(X_train_standard, y_train)\n",
    "6. knn_clf.score(X_test_standard, y_test)"
   ]
  },
  {
   "cell_type": "markdown",
   "metadata": {},
   "source": [
    "### 5.数据集导入(以鸢尾花数据集为例)\n",
    "1. from sklearn import datasets\n",
    "2. iris = datasets.load_iris()\n",
    "    * iris.keys()   # 输出：dict_keys(['data', 'target', 'target_names', 'DESCR', 'feature_names'])\n",
    "    * print(iris.DESCR)\n",
    "    * iris.feature_names\n",
    "3. X = iris.data\n",
    "4. y = iris.target"
   ]
  },
  {
   "cell_type": "markdown",
   "metadata": {},
   "source": [
    "### 6.MSE(均方误差)和MAE(平均绝对误差)和MRE(均方根误差)和R²\n",
    "from sklearn.metrics import mean_squared_error  \n",
    "from sklearn.metrics import mean_absolute_error  \n",
    "from sklearn.metrics import root_mean_squared_error  \n",
    "from sklearn.metrics import r2_score  \n",
    "* r2_score(y_test, y_predict)"
   ]
  },
  {
   "cell_type": "markdown",
   "metadata": {},
   "source": [
    "### 7.线性回归(多元，简单，梯度下降)\n",
    "1. from sklearn.linear_model import LinearRegression\n",
    "2. lin_reg = LinearRegression()\n",
    "3. lin_reg.fit(X_train, y_train)\n",
    "    * lin_reg.coef_\n",
    "    * lin_reg.intercept_\n",
    "    * lin_reg.score(X_test, y_test)   # R²值"
   ]
  },
  {
   "cell_type": "markdown",
   "metadata": {},
   "source": [
    "### 8.SGD(随机梯度下降)\n",
    "只能解决线性模型\n",
    "1. from sklearn.linear_model import SGDRegressor\n",
    "2. sgd_reg = SGDRegressor(n_iter=50)\n",
    "3. sgd_reg.fit(X_train_standard, y_train)\n",
    "    * sgd_reg.score(X_test_standard, y_test)"
   ]
  },
  {
   "cell_type": "markdown",
   "metadata": {},
   "source": [
    "### 9.PCA(梯度上升，特征压缩)\n",
    "1. from sklearn.decomposition import PCA\n",
    "2. pca = PCA(n_components=1)   # n_components表示特征维度\n",
    "    * pca = PCA(0.95)  # 表示不知道要取几个维度，但是取的主成分个数能解释原数据95%的方差\n",
    "3. pca.fit(X)\n",
    "    * pca.components_\n",
    "    * pca.n_components_  # 通过pca = PCA(0.95)得出的主成分个数\n",
    "4. X_reduction = pca.transform(X)\n",
    "5. X_restore = pca.inverse_transform(X_reduction)\n",
    "#### 与其他数据预测算法结合(以KNN算法为例)\n",
    "    1. X_train_reduction = pca.transform(X_train)\n",
    "    2. X_test_reduction = pca.transform(X_test\n",
    "    3. knn_clf = KNeighborsClassifier()\n",
    "    4. knn_clf.fit(X_train_reduction, y_train)\n",
    "        * knn_clf.score(X_test_reduction, y_test)"
   ]
  },
  {
   "cell_type": "markdown",
   "metadata": {},
   "source": [
    "### 10.多项式回归(PCA和多项式回归都是对现有X数据进行变形)\n",
    "1. from sklearn.preprocessing import PolynomialFeatures\n",
    "2. poly = PolynomialFeatures(degree=n)   # 为原本的数据集最多添加n次幂这样的特征,sklearn中鬼自动添加零次幂\n",
    "3. poly.fit(X)\n",
    "4. X2 = poly.transform(X)   # 把X转换成多项式X2\n",
    "#### 与线性回归算法结合(多项式回归只是预处理过程(sklearn.preprocessing)，真正拟合还是得用线性回归算法)\n",
    "    1. from sklearn.linear_model import LinearRegression\n",
    "    2. lin_reg2 = LinearRegression()\n",
    "    3. lin_reg2.fit(X2, y)\n",
    "        * y_predict2 = lin_reg2.predict(X2)\n",
    "        * lin_reg2.score(X2, y)"
   ]
  },
  {
   "cell_type": "markdown",
   "metadata": {},
   "source": [
    "### 11.PipeLine(管道)\n",
    "```\n",
    "1. 多项式的特征(或者其他预处理算法)\n",
    "2. 数据的归一化(或者其他预处理算法)(对于多项式回归，数据标准化是必要的，因为如果超参数degree很大的话，数据之间的差距会很大，比如1的一次方和100的100次方之间的差距)\n",
    "3. 线性回归(或者其他拟合算法)\n",
    "...\n",
    "PipeLine将三步合在一起\n",
    "```\n",
    "1. from sklearn.pipeline import Pipeline\n",
    "2. from sklearn.preprocessing import StandardScaler\n",
    "3. from sklearn.linear_model import LinearRegression\n",
    "4.  \n",
    "```\n",
    "poly_reg = Pipeline([\n",
    "    (\"poly\", PolynomialFeatures(degree=2)),\n",
    "    (\"std_scaler\", StandardScaler()),\n",
    "    (\"lin_reg\", LinearRegression())\n",
    "])\n",
    "```\n",
    "5. poly_reg.fit(X, y)\n",
    "    * y_predict = poly_reg.predict(X)"
   ]
  },
  {
   "cell_type": "code",
   "execution_count": null,
   "metadata": {},
   "outputs": [],
   "source": []
  }
 ],
 "metadata": {
  "kernelspec": {
   "display_name": "Python 3",
   "language": "python",
   "name": "python3"
  },
  "language_info": {
   "codemirror_mode": {
    "name": "ipython",
    "version": 3
   },
   "file_extension": ".py",
   "mimetype": "text/x-python",
   "name": "python",
   "nbconvert_exporter": "python",
   "pygments_lexer": "ipython3",
   "version": "3.6.5"
  }
 },
 "nbformat": 4,
 "nbformat_minor": 2
}
