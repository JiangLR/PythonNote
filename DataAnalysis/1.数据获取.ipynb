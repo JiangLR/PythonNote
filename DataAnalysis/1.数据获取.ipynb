{
 "cells": [
  {
   "cell_type": "markdown",
   "metadata": {},
   "source": [
    "## 数据获取手段\n",
    "1. 数据仓库\n",
    "2. 检测与抓取\n",
    "3. 填写，日志，埋点\n",
    "4. 计算"
   ]
  },
  {
   "cell_type": "code",
   "execution_count": null,
   "metadata": {},
   "outputs": [],
   "source": []
  },
  {
   "cell_type": "markdown",
   "metadata": {},
   "source": [
    "### 1.数据仓库\n",
    "1. 数据库存储用户信息，书籍信息...\n",
    "2. 根据用户购买行为动态调整数据库中的结构,在一定时间需要面临业务方向的问题，比如接下来该卖什么书，着重面向哪一类人群，这样就需要进行分析。但是仅考虑数据库里的数据是不够的，因为服务类的数据库涉及到数据更改，必要时还要减少冗余，减少冗余的过程也是信息被丢失的而过程\n",
    "3. 把每一次用户交互变动等信息存储下来，比如用户在几时几分几秒购买了什么书，书的价格是多少，浏览了哪个页面"
   ]
  },
  {
   "cell_type": "markdown",
   "metadata": {},
   "source": [
    "将所有的业务数据汇总处理，构成数据仓库(DW)\n",
    "- 全部事实的记录\n",
    "- 部分维度与数据的整理(数据技术-DM)"
   ]
  },
  {
   "cell_type": "code",
   "execution_count": null,
   "metadata": {},
   "outputs": [],
   "source": []
  },
  {
   "cell_type": "markdown",
   "metadata": {},
   "source": [
    "#### 数据库 VS 仓库\n",
    "\n",
    "1. 数据库面向业务存储(高并发, 快速读写, 为用户提供优质服务)，仓库面向主题存储(主题：较高层次对分析对象数据的一个完整并且一致的描述，比如，'用户购买书'就可以被认为是一个主题，在几时几分几秒，用户以什么样的价格购买了一本什么样的书，就是购买主题的记录，在记录里有时间，有用户信息，有图书信息等各个维度的信息，主题就是信息相互联系的描述)\n",
    "2. 数据库针对应用(OLTP), 仓库针对分析(OLAP)\n",
    "3. 数据库组织规范，仓库可能冗余，相对变化大，数据量大"
   ]
  },
  {
   "cell_type": "code",
   "execution_count": null,
   "metadata": {},
   "outputs": [],
   "source": []
  },
  {
   "cell_type": "markdown",
   "metadata": {},
   "source": [
    "### 2.监测与抓取\n",
    "1. 通过监测设备和算法直接获取数据，如传感器网络\n",
    "2. 通过直接解析网页，接口，文件的信息"
   ]
  },
  {
   "cell_type": "code",
   "execution_count": null,
   "metadata": {},
   "outputs": [],
   "source": []
  },
  {
   "cell_type": "markdown",
   "metadata": {},
   "source": [
    "Python常用工具：\n",
    "1. urllib, urllib2, requests, scrapy(直接抓取数据)\n",
    "2. PhantomJS(渲染数据), beautifulSoup, Xpath(lxmxl)(解析路径)"
   ]
  },
  {
   "cell_type": "code",
   "execution_count": null,
   "metadata": {},
   "outputs": [],
   "source": []
  },
  {
   "cell_type": "markdown",
   "metadata": {},
   "source": [
    "### 3.填写，埋点，日志\n",
    "1. 用户填写信息系\n",
    "2. APP或网页埋点(特定流程的信息记录点，用来跟踪特定时间APP或网页服务使用情况；比如：访客，停留时间，页面查看和跳出率...)\n",
    "3. 操作日志\n"
   ]
  },
  {
   "cell_type": "code",
   "execution_count": null,
   "metadata": {},
   "outputs": [],
   "source": []
  },
  {
   "cell_type": "markdown",
   "metadata": {},
   "source": [
    "### 4.计算\n",
    "1. 通过已有的数据计算生成的衍生数据，例如：统计报表某些项目"
   ]
  },
  {
   "cell_type": "code",
   "execution_count": null,
   "metadata": {},
   "outputs": [],
   "source": []
  },
  {
   "cell_type": "code",
   "execution_count": null,
   "metadata": {},
   "outputs": [],
   "source": []
  },
  {
   "cell_type": "markdown",
   "metadata": {},
   "source": [
    "### 数据学习网站\n",
    "1. 数据竞赛网站(Kaggle&天池)\n",
    "2. 数据集网站(ImageNet / Open Image)\n",
    "3. 各领域统计数据(统计局，政府机构，公司财报等)"
   ]
  },
  {
   "cell_type": "code",
   "execution_count": null,
   "metadata": {},
   "outputs": [],
   "source": []
  }
 ],
 "metadata": {
  "kernelspec": {
   "display_name": "Python 3",
   "language": "python",
   "name": "python3"
  },
  "language_info": {
   "codemirror_mode": {
    "name": "ipython",
    "version": 3
   },
   "file_extension": ".py",
   "mimetype": "text/x-python",
   "name": "python",
   "nbconvert_exporter": "python",
   "pygments_lexer": "ipython3",
   "version": "3.6.5"
  }
 },
 "nbformat": 4,
 "nbformat_minor": 2
}
