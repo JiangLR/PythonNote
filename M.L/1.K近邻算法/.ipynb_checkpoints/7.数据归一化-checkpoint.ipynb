{
 "cells": [
  {
   "cell_type": "code",
   "execution_count": 3,
   "metadata": {},
   "outputs": [],
   "source": [
    "import numpy as np\n",
    "import matplotlib.pyplot as plt"
   ]
  },
  {
   "cell_type": "code",
   "execution_count": null,
   "metadata": {},
   "outputs": [],
   "source": []
  },
  {
   "cell_type": "markdown",
   "metadata": {},
   "source": [
    "### 最值归一化(Normalization)"
   ]
  },
  {
   "cell_type": "code",
   "execution_count": 4,
   "metadata": {},
   "outputs": [],
   "source": [
    "x = np.random.randint(0, 100, size=100)"
   ]
  },
  {
   "cell_type": "code",
   "execution_count": 5,
   "metadata": {
    "scrolled": true
   },
   "outputs": [
    {
     "data": {
      "text/plain": [
       "array([51,  6, 27, 52, 94,  6, 82, 31,  1, 44, 44, 79, 98, 95, 28, 52, 23,\n",
       "       77, 35, 32, 75,  7, 81, 90, 72, 14, 88, 38, 97, 85, 26, 79, 82, 91,\n",
       "       77, 63, 85, 45, 88, 28, 53, 54, 84, 67, 30,  7, 83, 66, 73, 62,  4,\n",
       "        2, 92, 99,  6, 98, 43, 21, 37, 69, 68, 19, 39,  3, 89, 29, 70, 61,\n",
       "        6, 30,  1, 71, 88, 39, 98, 65, 39, 25, 37, 97, 96, 25, 18, 90, 48,\n",
       "       21, 63,  3, 20, 47, 86, 26, 86, 43, 72, 67, 45, 17, 28, 62])"
      ]
     },
     "execution_count": 5,
     "metadata": {},
     "output_type": "execute_result"
    }
   ],
   "source": [
    "x"
   ]
  },
  {
   "cell_type": "code",
   "execution_count": 6,
   "metadata": {},
   "outputs": [
    {
     "data": {
      "text/plain": [
       "array([0.51020408, 0.05102041, 0.26530612, 0.52040816, 0.94897959,\n",
       "       0.05102041, 0.82653061, 0.30612245, 0.        , 0.43877551,\n",
       "       0.43877551, 0.79591837, 0.98979592, 0.95918367, 0.2755102 ,\n",
       "       0.52040816, 0.2244898 , 0.7755102 , 0.34693878, 0.31632653,\n",
       "       0.75510204, 0.06122449, 0.81632653, 0.90816327, 0.7244898 ,\n",
       "       0.13265306, 0.8877551 , 0.37755102, 0.97959184, 0.85714286,\n",
       "       0.25510204, 0.79591837, 0.82653061, 0.91836735, 0.7755102 ,\n",
       "       0.63265306, 0.85714286, 0.44897959, 0.8877551 , 0.2755102 ,\n",
       "       0.53061224, 0.54081633, 0.84693878, 0.67346939, 0.29591837,\n",
       "       0.06122449, 0.83673469, 0.66326531, 0.73469388, 0.62244898,\n",
       "       0.03061224, 0.01020408, 0.92857143, 1.        , 0.05102041,\n",
       "       0.98979592, 0.42857143, 0.20408163, 0.36734694, 0.69387755,\n",
       "       0.68367347, 0.18367347, 0.3877551 , 0.02040816, 0.89795918,\n",
       "       0.28571429, 0.70408163, 0.6122449 , 0.05102041, 0.29591837,\n",
       "       0.        , 0.71428571, 0.8877551 , 0.3877551 , 0.98979592,\n",
       "       0.65306122, 0.3877551 , 0.24489796, 0.36734694, 0.97959184,\n",
       "       0.96938776, 0.24489796, 0.17346939, 0.90816327, 0.47959184,\n",
       "       0.20408163, 0.63265306, 0.02040816, 0.19387755, 0.46938776,\n",
       "       0.86734694, 0.25510204, 0.86734694, 0.42857143, 0.7244898 ,\n",
       "       0.67346939, 0.44897959, 0.16326531, 0.2755102 , 0.62244898])"
      ]
     },
     "execution_count": 6,
     "metadata": {},
     "output_type": "execute_result"
    }
   ],
   "source": [
    "(x - np.min(x)) / (np.max(x) - np.min(x))"
   ]
  },
  {
   "cell_type": "code",
   "execution_count": 10,
   "metadata": {},
   "outputs": [],
   "source": [
    "X = np.random.randint(0, 100, (50,2))"
   ]
  },
  {
   "cell_type": "code",
   "execution_count": 16,
   "metadata": {},
   "outputs": [
    {
     "data": {
      "text/plain": [
       "array([[22., 14.],\n",
       "       [53., 30.],\n",
       "       [22., 32.],\n",
       "       [83.,  4.],\n",
       "       [91.,  1.],\n",
       "       [18., 68.],\n",
       "       [ 9., 65.],\n",
       "       [66., 32.],\n",
       "       [81., 10.],\n",
       "       [ 2., 88.]])"
      ]
     },
     "execution_count": 16,
     "metadata": {},
     "output_type": "execute_result"
    }
   ],
   "source": [
    "X[:10,:]"
   ]
  },
  {
   "cell_type": "code",
   "execution_count": 17,
   "metadata": {},
   "outputs": [
    {
     "data": {
      "text/plain": [
       "array([[22., 14.],\n",
       "       [53., 30.],\n",
       "       [22., 32.],\n",
       "       [83.,  4.],\n",
       "       [91.,  1.],\n",
       "       [18., 68.],\n",
       "       [ 9., 65.],\n",
       "       [66., 32.],\n",
       "       [81., 10.],\n",
       "       [ 2., 88.]])"
      ]
     },
     "execution_count": 17,
     "metadata": {},
     "output_type": "execute_result"
    }
   ],
   "source": [
    "X = np.array(X, dtype=float)\n",
    "X[:10,:]"
   ]
  },
  {
   "cell_type": "code",
   "execution_count": 20,
   "metadata": {},
   "outputs": [],
   "source": [
    "### 将第一个特征值最小归一化\n",
    "X[:,0] = (X[:,0] - np.min(X[:,0])) / (np.max(X[:,0]) - np.min(X[:,0]))"
   ]
  },
  {
   "cell_type": "code",
   "execution_count": 22,
   "metadata": {},
   "outputs": [],
   "source": [
    "### 将第二个特征值最小归一化\n",
    "X[:,1] = (X[:,1] - np.min(X[:,1])) / (np.max(X[:,1]) - np.min(X[:,1]))"
   ]
  },
  {
   "cell_type": "code",
   "execution_count": 24,
   "metadata": {},
   "outputs": [
    {
     "data": {
      "text/plain": [
       "array([[0.22105263, 0.13541667],\n",
       "       [0.54736842, 0.30208333],\n",
       "       [0.22105263, 0.32291667],\n",
       "       [0.86315789, 0.03125   ],\n",
       "       [0.94736842, 0.        ],\n",
       "       [0.17894737, 0.69791667],\n",
       "       [0.08421053, 0.66666667],\n",
       "       [0.68421053, 0.32291667],\n",
       "       [0.84210526, 0.09375   ],\n",
       "       [0.01052632, 0.90625   ]])"
      ]
     },
     "execution_count": 24,
     "metadata": {},
     "output_type": "execute_result"
    }
   ],
   "source": [
    "X[:10,:]"
   ]
  },
  {
   "cell_type": "code",
   "execution_count": 27,
   "metadata": {},
   "outputs": [
    {
     "data": {
      "text/plain": [
       "<matplotlib.collections.PathCollection at 0x24ea0a8a2e8>"
      ]
     },
     "execution_count": 27,
     "metadata": {},
     "output_type": "execute_result"
    },
    {
     "data": {
      "image/png": "[encoded data removed]",
      "text/plain": [
       "<Figure size 432x288 with 1 Axes>"
      ]
     },
     "metadata": {},
     "output_type": "display_data"
    }
   ],
   "source": [
    "plt.scatter(X[:,0], X[:,1])"
   ]
  },
  {
   "cell_type": "code",
   "execution_count": 30,
   "metadata": {},
   "outputs": [
    {
     "data": {
      "text/plain": [
       "0.5454736842105263"
      ]
     },
     "execution_count": 30,
     "metadata": {},
     "output_type": "execute_result"
    }
   ],
   "source": [
    "np.mean(X[:,0])"
   ]
  },
  {
   "cell_type": "code",
   "execution_count": 31,
   "metadata": {},
   "outputs": [
    {
     "data": {
      "text/plain": [
       "0.3217589469534582"
      ]
     },
     "execution_count": 31,
     "metadata": {},
     "output_type": "execute_result"
    }
   ],
   "source": [
    "np.std(X[:,0])"
   ]
  },
  {
   "cell_type": "code",
   "execution_count": null,
   "metadata": {},
   "outputs": [],
   "source": []
  },
  {
   "cell_type": "markdown",
   "metadata": {},
   "source": [
    "### 均值方差归一化(Standardization)"
   ]
  },
  {
   "cell_type": "code",
   "execution_count": 40,
   "metadata": {},
   "outputs": [],
   "source": [
    "X2 = np.random.randint(0, 100, (50, 2))"
   ]
  },
  {
   "cell_type": "code",
   "execution_count": 41,
   "metadata": {},
   "outputs": [],
   "source": [
    "X2 = np.array(X2, dtype=float)"
   ]
  },
  {
   "cell_type": "code",
   "execution_count": 42,
   "metadata": {},
   "outputs": [],
   "source": [
    "X2[:,0] = (X2[:,0] - np.mean(X2[:,0])) / np.std(X2[:,0])\n",
    "X2[:,1] = (X2[:,1] - np.mean(X2[:,1])) / np.std(X2[:,1])"
   ]
  },
  {
   "cell_type": "code",
   "execution_count": 44,
   "metadata": {},
   "outputs": [
    {
     "data": {
      "text/plain": [
       "<matplotlib.collections.PathCollection at 0x24ea0b03a58>"
      ]
     },
     "execution_count": 44,
     "metadata": {},
     "output_type": "execute_result"
    },
    {
     "data": {
      "image/png": "[encoded data removed]",
      "text/plain": [
       "<Figure size 432x288 with 1 Axes>"
      ]
     },
     "metadata": {},
     "output_type": "display_data"
    }
   ],
   "source": [
    "plt.scatter(X2[:,0], X2[:,1])"
   ]
  },
  {
   "cell_type": "code",
   "execution_count": 45,
   "metadata": {},
   "outputs": [
    {
     "data": {
      "text/plain": [
       "-3.9968028886505634e-17"
      ]
     },
     "execution_count": 45,
     "metadata": {},
     "output_type": "execute_result"
    }
   ],
   "source": [
    "np.mean(X2[:,0])"
   ]
  },
  {
   "cell_type": "code",
   "execution_count": 46,
   "metadata": {},
   "outputs": [
    {
     "data": {
      "text/plain": [
       "1.0"
      ]
     },
     "execution_count": 46,
     "metadata": {},
     "output_type": "execute_result"
    }
   ],
   "source": [
    "np.std(X2[:,0])"
   ]
  }
 ],
 "metadata": {
  "kernelspec": {
   "display_name": "Python 3",
   "language": "python",
   "name": "python3"
  },
  "language_info": {
   "codemirror_mode": {
    "name": "ipython",
    "version": 3
   },
   "file_extension": ".py",
   "mimetype": "text/x-python",
   "name": "python",
   "nbconvert_exporter": "python",
   "pygments_lexer": "ipython3",
   "version": "3.6.5"
  }
 },
 "nbformat": 4,
 "nbformat_minor": 2
}
