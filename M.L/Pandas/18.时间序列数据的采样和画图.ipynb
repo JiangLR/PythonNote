{
 "cells": [
  {
   "cell_type": "code",
   "execution_count": 1,
   "metadata": {},
   "outputs": [],
   "source": [
    "import numpy as np\n",
    "import pandas as pd\n",
    "from pandas import Series, DataFrame"
   ]
  },
  {
   "cell_type": "code",
   "execution_count": 2,
   "metadata": {},
   "outputs": [],
   "source": [
    "t_range = pd.date_range('2016-01-01', '2016-12-31')"
   ]
  },
  {
   "cell_type": "code",
   "execution_count": 3,
   "metadata": {},
   "outputs": [
    {
     "data": {
      "text/plain": [
       "DatetimeIndex(['2016-01-01', '2016-01-02', '2016-01-03', '2016-01-04',\n",
       "               '2016-01-05', '2016-01-06', '2016-01-07', '2016-01-08',\n",
       "               '2016-01-09', '2016-01-10',\n",
       "               ...\n",
       "               '2016-12-22', '2016-12-23', '2016-12-24', '2016-12-25',\n",
       "               '2016-12-26', '2016-12-27', '2016-12-28', '2016-12-29',\n",
       "               '2016-12-30', '2016-12-31'],\n",
       "              dtype='datetime64[ns]', length=366, freq='D')"
      ]
     },
     "execution_count": 3,
     "metadata": {},
     "output_type": "execute_result"
    }
   ],
   "source": [
    "t_range"
   ]
  },
  {
   "cell_type": "code",
   "execution_count": 4,
   "metadata": {},
   "outputs": [],
   "source": [
    "s1 = Series(np.random.randn(len(t_range)), index=t_range)"
   ]
  },
  {
   "cell_type": "code",
   "execution_count": 6,
   "metadata": {},
   "outputs": [
    {
     "data": {
      "text/plain": [
       "2016-01-01    0.005634\n",
       "2016-01-02   -0.461614\n",
       "2016-01-03   -0.414614\n",
       "2016-01-04   -1.599102\n",
       "2016-01-05   -1.906953\n",
       "2016-01-06   -0.573759\n",
       "2016-01-07   -0.488776\n",
       "2016-01-08    0.460642\n",
       "2016-01-09    0.667402\n",
       "2016-01-10   -0.772808\n",
       "2016-01-11    1.126559\n",
       "2016-01-12   -0.578345\n",
       "2016-01-13    1.043672\n",
       "2016-01-14    0.038674\n",
       "2016-01-15    0.412779\n",
       "2016-01-16   -1.478951\n",
       "2016-01-17    0.780824\n",
       "2016-01-18   -1.212235\n",
       "2016-01-19    0.225089\n",
       "2016-01-20    1.440363\n",
       "2016-01-21   -0.146459\n",
       "2016-01-22   -0.488759\n",
       "2016-01-23   -0.757215\n",
       "2016-01-24   -0.071954\n",
       "2016-01-25    0.031833\n",
       "2016-01-26    0.454908\n",
       "2016-01-27    0.767385\n",
       "2016-01-28   -1.368420\n",
       "2016-01-29    2.319982\n",
       "2016-01-30    0.580049\n",
       "                ...   \n",
       "2016-12-02    0.067879\n",
       "2016-12-03    0.830793\n",
       "2016-12-04    0.321099\n",
       "2016-12-05    0.617557\n",
       "2016-12-06    1.061396\n",
       "2016-12-07    0.913202\n",
       "2016-12-08   -0.240725\n",
       "2016-12-09   -0.771692\n",
       "2016-12-10   -1.752178\n",
       "2016-12-11    0.066040\n",
       "2016-12-12    0.116957\n",
       "2016-12-13    0.535045\n",
       "2016-12-14   -2.168210\n",
       "2016-12-15   -0.669230\n",
       "2016-12-16    0.534016\n",
       "2016-12-17    0.845814\n",
       "2016-12-18   -0.803000\n",
       "2016-12-19    0.194057\n",
       "2016-12-20   -0.490385\n",
       "2016-12-21    0.533890\n",
       "2016-12-22   -0.287367\n",
       "2016-12-23   -0.514232\n",
       "2016-12-24   -0.899402\n",
       "2016-12-25    1.146824\n",
       "2016-12-26    1.159730\n",
       "2016-12-27    0.001750\n",
       "2016-12-28   -2.003630\n",
       "2016-12-29    0.585709\n",
       "2016-12-30   -0.772390\n",
       "2016-12-31    0.601598\n",
       "Freq: D, Length: 366, dtype: float64"
      ]
     },
     "execution_count": 6,
     "metadata": {},
     "output_type": "execute_result"
    }
   ],
   "source": [
    "s1"
   ]
  },
  {
   "cell_type": "code",
   "execution_count": 5,
   "metadata": {},
   "outputs": [
    {
     "data": {
      "text/plain": [
       "-0.09692747021240815"
      ]
     },
     "execution_count": 5,
     "metadata": {},
     "output_type": "execute_result"
    }
   ],
   "source": [
    "s1['2016-01'].mean()"
   ]
  },
  {
   "cell_type": "code",
   "execution_count": 7,
   "metadata": {},
   "outputs": [],
   "source": [
    "s1_month = s1.resample('M').mean()"
   ]
  },
  {
   "cell_type": "code",
   "execution_count": 10,
   "metadata": {},
   "outputs": [
    {
     "data": {
      "text/plain": [
       "2016-01-31   -0.096927\n",
       "2016-02-29   -0.053533\n",
       "2016-03-31    0.402279\n",
       "2016-04-30   -0.111826\n",
       "2016-05-31   -0.024680\n",
       "2016-06-30   -0.206366\n",
       "2016-07-31   -0.228590\n",
       "2016-08-31    0.151404\n",
       "2016-09-30   -0.171474\n",
       "2016-10-31    0.241676\n",
       "2016-11-30   -0.092686\n",
       "2016-12-31   -0.050704\n",
       "Freq: M, dtype: float64"
      ]
     },
     "execution_count": 10,
     "metadata": {},
     "output_type": "execute_result"
    }
   ],
   "source": [
    "s1_month"
   ]
  },
  {
   "cell_type": "code",
   "execution_count": 9,
   "metadata": {},
   "outputs": [
    {
     "data": {
      "text/plain": [
       "DatetimeIndex(['2016-01-31', '2016-02-29', '2016-03-31', '2016-04-30',\n",
       "               '2016-05-31', '2016-06-30', '2016-07-31', '2016-08-31',\n",
       "               '2016-09-30', '2016-10-31', '2016-11-30', '2016-12-31'],\n",
       "              dtype='datetime64[ns]', freq='M')"
      ]
     },
     "execution_count": 9,
     "metadata": {},
     "output_type": "execute_result"
    }
   ],
   "source": [
    "s1_month.index"
   ]
  },
  {
   "cell_type": "code",
   "execution_count": 14,
   "metadata": {},
   "outputs": [
    {
     "data": {
      "text/plain": [
       "2016-01-01 00:00:00    0.005634\n",
       "2016-01-01 01:00:00    0.005634\n",
       "2016-01-01 02:00:00    0.005634\n",
       "2016-01-01 03:00:00    0.005634\n",
       "2016-01-01 04:00:00    0.005634\n",
       "2016-01-01 05:00:00    0.005634\n",
       "2016-01-01 06:00:00    0.005634\n",
       "2016-01-01 07:00:00    0.005634\n",
       "2016-01-01 08:00:00    0.005634\n",
       "2016-01-01 09:00:00    0.005634\n",
       "2016-01-01 10:00:00    0.005634\n",
       "2016-01-01 11:00:00    0.005634\n",
       "2016-01-01 12:00:00    0.005634\n",
       "2016-01-01 13:00:00    0.005634\n",
       "2016-01-01 14:00:00    0.005634\n",
       "2016-01-01 15:00:00    0.005634\n",
       "2016-01-01 16:00:00    0.005634\n",
       "2016-01-01 17:00:00    0.005634\n",
       "2016-01-01 18:00:00    0.005634\n",
       "2016-01-01 19:00:00    0.005634\n",
       "2016-01-01 20:00:00    0.005634\n",
       "2016-01-01 21:00:00    0.005634\n",
       "2016-01-01 22:00:00    0.005634\n",
       "2016-01-01 23:00:00    0.005634\n",
       "2016-01-02 00:00:00   -0.461614\n",
       "2016-01-02 01:00:00   -0.461614\n",
       "2016-01-02 02:00:00   -0.461614\n",
       "2016-01-02 03:00:00   -0.461614\n",
       "2016-01-02 04:00:00   -0.461614\n",
       "2016-01-02 05:00:00   -0.461614\n",
       "                         ...   \n",
       "2016-12-29 19:00:00    0.585709\n",
       "2016-12-29 20:00:00    0.585709\n",
       "2016-12-29 21:00:00    0.585709\n",
       "2016-12-29 22:00:00    0.585709\n",
       "2016-12-29 23:00:00    0.585709\n",
       "2016-12-30 00:00:00   -0.772390\n",
       "2016-12-30 01:00:00   -0.772390\n",
       "2016-12-30 02:00:00   -0.772390\n",
       "2016-12-30 03:00:00   -0.772390\n",
       "2016-12-30 04:00:00   -0.772390\n",
       "2016-12-30 05:00:00   -0.772390\n",
       "2016-12-30 06:00:00   -0.772390\n",
       "2016-12-30 07:00:00   -0.772390\n",
       "2016-12-30 08:00:00   -0.772390\n",
       "2016-12-30 09:00:00   -0.772390\n",
       "2016-12-30 10:00:00   -0.772390\n",
       "2016-12-30 11:00:00   -0.772390\n",
       "2016-12-30 12:00:00   -0.772390\n",
       "2016-12-30 13:00:00   -0.772390\n",
       "2016-12-30 14:00:00   -0.772390\n",
       "2016-12-30 15:00:00   -0.772390\n",
       "2016-12-30 16:00:00   -0.772390\n",
       "2016-12-30 17:00:00   -0.772390\n",
       "2016-12-30 18:00:00   -0.772390\n",
       "2016-12-30 19:00:00   -0.772390\n",
       "2016-12-30 20:00:00   -0.772390\n",
       "2016-12-30 21:00:00   -0.772390\n",
       "2016-12-30 22:00:00   -0.772390\n",
       "2016-12-30 23:00:00   -0.772390\n",
       "2016-12-31 00:00:00    0.601598\n",
       "Freq: H, Length: 8761, dtype: float64"
      ]
     },
     "execution_count": 14,
     "metadata": {},
     "output_type": "execute_result"
    }
   ],
   "source": [
    "s1.resample('H').ffill()"
   ]
  },
  {
   "cell_type": "code",
   "execution_count": 13,
   "metadata": {},
   "outputs": [
    {
     "data": {
      "text/plain": [
       "2016-01-01 00:00:00    0.005634\n",
       "2016-01-01 01:00:00   -0.461614\n",
       "2016-01-01 02:00:00   -0.461614\n",
       "2016-01-01 03:00:00   -0.461614\n",
       "2016-01-01 04:00:00   -0.461614\n",
       "2016-01-01 05:00:00   -0.461614\n",
       "2016-01-01 06:00:00   -0.461614\n",
       "2016-01-01 07:00:00   -0.461614\n",
       "2016-01-01 08:00:00   -0.461614\n",
       "2016-01-01 09:00:00   -0.461614\n",
       "2016-01-01 10:00:00   -0.461614\n",
       "2016-01-01 11:00:00   -0.461614\n",
       "2016-01-01 12:00:00   -0.461614\n",
       "2016-01-01 13:00:00   -0.461614\n",
       "2016-01-01 14:00:00   -0.461614\n",
       "2016-01-01 15:00:00   -0.461614\n",
       "2016-01-01 16:00:00   -0.461614\n",
       "2016-01-01 17:00:00   -0.461614\n",
       "2016-01-01 18:00:00   -0.461614\n",
       "2016-01-01 19:00:00   -0.461614\n",
       "2016-01-01 20:00:00   -0.461614\n",
       "2016-01-01 21:00:00   -0.461614\n",
       "2016-01-01 22:00:00   -0.461614\n",
       "2016-01-01 23:00:00   -0.461614\n",
       "2016-01-02 00:00:00   -0.461614\n",
       "2016-01-02 01:00:00   -0.414614\n",
       "2016-01-02 02:00:00   -0.414614\n",
       "2016-01-02 03:00:00   -0.414614\n",
       "2016-01-02 04:00:00   -0.414614\n",
       "2016-01-02 05:00:00   -0.414614\n",
       "                         ...   \n",
       "2016-12-29 19:00:00   -0.772390\n",
       "2016-12-29 20:00:00   -0.772390\n",
       "2016-12-29 21:00:00   -0.772390\n",
       "2016-12-29 22:00:00   -0.772390\n",
       "2016-12-29 23:00:00   -0.772390\n",
       "2016-12-30 00:00:00   -0.772390\n",
       "2016-12-30 01:00:00    0.601598\n",
       "2016-12-30 02:00:00    0.601598\n",
       "2016-12-30 03:00:00    0.601598\n",
       "2016-12-30 04:00:00    0.601598\n",
       "2016-12-30 05:00:00    0.601598\n",
       "2016-12-30 06:00:00    0.601598\n",
       "2016-12-30 07:00:00    0.601598\n",
       "2016-12-30 08:00:00    0.601598\n",
       "2016-12-30 09:00:00    0.601598\n",
       "2016-12-30 10:00:00    0.601598\n",
       "2016-12-30 11:00:00    0.601598\n",
       "2016-12-30 12:00:00    0.601598\n",
       "2016-12-30 13:00:00    0.601598\n",
       "2016-12-30 14:00:00    0.601598\n",
       "2016-12-30 15:00:00    0.601598\n",
       "2016-12-30 16:00:00    0.601598\n",
       "2016-12-30 17:00:00    0.601598\n",
       "2016-12-30 18:00:00    0.601598\n",
       "2016-12-30 19:00:00    0.601598\n",
       "2016-12-30 20:00:00    0.601598\n",
       "2016-12-30 21:00:00    0.601598\n",
       "2016-12-30 22:00:00    0.601598\n",
       "2016-12-30 23:00:00    0.601598\n",
       "2016-12-31 00:00:00    0.601598\n",
       "Freq: H, Length: 8761, dtype: float64"
      ]
     },
     "execution_count": 13,
     "metadata": {},
     "output_type": "execute_result"
    }
   ],
   "source": [
    "s1.resample('H').bfill()"
   ]
  },
  {
   "cell_type": "code",
   "execution_count": null,
   "metadata": {},
   "outputs": [],
   "source": []
  },
  {
   "cell_type": "code",
   "execution_count": 12,
   "metadata": {},
   "outputs": [],
   "source": [
    "t_range = pd.date_range('2016-01-01', '2016-12-31', freq='H')"
   ]
  },
  {
   "cell_type": "code",
   "execution_count": 18,
   "metadata": {},
   "outputs": [
    {
     "data": {
      "text/plain": [
       "DatetimeIndex(['2016-01-01 00:00:00', '2016-01-01 01:00:00',\n",
       "               '2016-01-01 02:00:00', '2016-01-01 03:00:00',\n",
       "               '2016-01-01 04:00:00', '2016-01-01 05:00:00',\n",
       "               '2016-01-01 06:00:00', '2016-01-01 07:00:00',\n",
       "               '2016-01-01 08:00:00', '2016-01-01 09:00:00',\n",
       "               ...\n",
       "               '2016-12-30 15:00:00', '2016-12-30 16:00:00',\n",
       "               '2016-12-30 17:00:00', '2016-12-30 18:00:00',\n",
       "               '2016-12-30 19:00:00', '2016-12-30 20:00:00',\n",
       "               '2016-12-30 21:00:00', '2016-12-30 22:00:00',\n",
       "               '2016-12-30 23:00:00', '2016-12-31 00:00:00'],\n",
       "              dtype='datetime64[ns]', length=8761, freq='H')"
      ]
     },
     "execution_count": 18,
     "metadata": {},
     "output_type": "execute_result"
    }
   ],
   "source": [
    "t_range"
   ]
  },
  {
   "cell_type": "code",
   "execution_count": 28,
   "metadata": {},
   "outputs": [],
   "source": [
    "stock_df = DataFrame(index=t_range)"
   ]
  },
  {
   "cell_type": "code",
   "execution_count": 29,
   "metadata": {},
   "outputs": [
    {
     "data": {
      "text/html": [
       "<div>\n",
       "<style scoped>\n",
       "    .dataframe tbody tr th:only-of-type {\n",
       "        vertical-align: middle;\n",
       "    }\n",
       "\n",
       "    .dataframe tbody tr th {\n",
       "        vertical-align: top;\n",
       "    }\n",
       "\n",
       "    .dataframe thead th {\n",
       "        text-align: right;\n",
       "    }\n",
       "</style>\n",
       "<table border=\"1\" class=\"dataframe\">\n",
       "  <thead>\n",
       "    <tr style=\"text-align: right;\">\n",
       "      <th></th>\n",
       "    </tr>\n",
       "  </thead>\n",
       "  <tbody>\n",
       "    <tr>\n",
       "      <th>2016-01-01 00:00:00</th>\n",
       "    </tr>\n",
       "    <tr>\n",
       "      <th>2016-01-01 01:00:00</th>\n",
       "    </tr>\n",
       "    <tr>\n",
       "      <th>2016-01-01 02:00:00</th>\n",
       "    </tr>\n",
       "    <tr>\n",
       "      <th>2016-01-01 03:00:00</th>\n",
       "    </tr>\n",
       "    <tr>\n",
       "      <th>2016-01-01 04:00:00</th>\n",
       "    </tr>\n",
       "  </tbody>\n",
       "</table>\n",
       "</div>"
      ],
      "text/plain": [
       "Empty DataFrame\n",
       "Columns: []\n",
       "Index: [2016-01-01 00:00:00, 2016-01-01 01:00:00, 2016-01-01 02:00:00, 2016-01-01 03:00:00, 2016-01-01 04:00:00]"
      ]
     },
     "execution_count": 29,
     "metadata": {},
     "output_type": "execute_result"
    }
   ],
   "source": [
    "stock_df.head()"
   ]
  },
  {
   "cell_type": "code",
   "execution_count": 30,
   "metadata": {},
   "outputs": [],
   "source": [
    "stock_df['BABA'] = np.random.randint(80, 160, size=len(t_range))"
   ]
  },
  {
   "cell_type": "code",
   "execution_count": 32,
   "metadata": {},
   "outputs": [
    {
     "data": {
      "text/html": [
       "<div>\n",
       "<style scoped>\n",
       "    .dataframe tbody tr th:only-of-type {\n",
       "        vertical-align: middle;\n",
       "    }\n",
       "\n",
       "    .dataframe tbody tr th {\n",
       "        vertical-align: top;\n",
       "    }\n",
       "\n",
       "    .dataframe thead th {\n",
       "        text-align: right;\n",
       "    }\n",
       "</style>\n",
       "<table border=\"1\" class=\"dataframe\">\n",
       "  <thead>\n",
       "    <tr style=\"text-align: right;\">\n",
       "      <th></th>\n",
       "      <th>BABA</th>\n",
       "    </tr>\n",
       "  </thead>\n",
       "  <tbody>\n",
       "    <tr>\n",
       "      <th>2016-01-01 00:00:00</th>\n",
       "      <td>116</td>\n",
       "    </tr>\n",
       "    <tr>\n",
       "      <th>2016-01-01 01:00:00</th>\n",
       "      <td>148</td>\n",
       "    </tr>\n",
       "    <tr>\n",
       "      <th>2016-01-01 02:00:00</th>\n",
       "      <td>106</td>\n",
       "    </tr>\n",
       "    <tr>\n",
       "      <th>2016-01-01 03:00:00</th>\n",
       "      <td>138</td>\n",
       "    </tr>\n",
       "    <tr>\n",
       "      <th>2016-01-01 04:00:00</th>\n",
       "      <td>108</td>\n",
       "    </tr>\n",
       "  </tbody>\n",
       "</table>\n",
       "</div>"
      ],
      "text/plain": [
       "                     BABA\n",
       "2016-01-01 00:00:00   116\n",
       "2016-01-01 01:00:00   148\n",
       "2016-01-01 02:00:00   106\n",
       "2016-01-01 03:00:00   138\n",
       "2016-01-01 04:00:00   108"
      ]
     },
     "execution_count": 32,
     "metadata": {},
     "output_type": "execute_result"
    }
   ],
   "source": [
    "stock_df.head()"
   ]
  },
  {
   "cell_type": "code",
   "execution_count": 34,
   "metadata": {},
   "outputs": [],
   "source": [
    "stock_df['TENCENT'] = np.random.randint(30, 50, size=len(t_range))"
   ]
  },
  {
   "cell_type": "code",
   "execution_count": 35,
   "metadata": {},
   "outputs": [
    {
     "data": {
      "text/html": [
       "<div>\n",
       "<style scoped>\n",
       "    .dataframe tbody tr th:only-of-type {\n",
       "        vertical-align: middle;\n",
       "    }\n",
       "\n",
       "    .dataframe tbody tr th {\n",
       "        vertical-align: top;\n",
       "    }\n",
       "\n",
       "    .dataframe thead th {\n",
       "        text-align: right;\n",
       "    }\n",
       "</style>\n",
       "<table border=\"1\" class=\"dataframe\">\n",
       "  <thead>\n",
       "    <tr style=\"text-align: right;\">\n",
       "      <th></th>\n",
       "      <th>BABA</th>\n",
       "      <th>TENCENT</th>\n",
       "    </tr>\n",
       "  </thead>\n",
       "  <tbody>\n",
       "    <tr>\n",
       "      <th>2016-01-01 00:00:00</th>\n",
       "      <td>116</td>\n",
       "      <td>43</td>\n",
       "    </tr>\n",
       "    <tr>\n",
       "      <th>2016-01-01 01:00:00</th>\n",
       "      <td>148</td>\n",
       "      <td>41</td>\n",
       "    </tr>\n",
       "    <tr>\n",
       "      <th>2016-01-01 02:00:00</th>\n",
       "      <td>106</td>\n",
       "      <td>35</td>\n",
       "    </tr>\n",
       "    <tr>\n",
       "      <th>2016-01-01 03:00:00</th>\n",
       "      <td>138</td>\n",
       "      <td>40</td>\n",
       "    </tr>\n",
       "    <tr>\n",
       "      <th>2016-01-01 04:00:00</th>\n",
       "      <td>108</td>\n",
       "      <td>48</td>\n",
       "    </tr>\n",
       "  </tbody>\n",
       "</table>\n",
       "</div>"
      ],
      "text/plain": [
       "                     BABA  TENCENT\n",
       "2016-01-01 00:00:00   116       43\n",
       "2016-01-01 01:00:00   148       41\n",
       "2016-01-01 02:00:00   106       35\n",
       "2016-01-01 03:00:00   138       40\n",
       "2016-01-01 04:00:00   108       48"
      ]
     },
     "execution_count": 35,
     "metadata": {},
     "output_type": "execute_result"
    }
   ],
   "source": [
    "stock_df.head()"
   ]
  },
  {
   "cell_type": "code",
   "execution_count": 36,
   "metadata": {},
   "outputs": [
    {
     "data": {
      "text/html": [
       "<div>\n",
       "<style scoped>\n",
       "    .dataframe tbody tr th:only-of-type {\n",
       "        vertical-align: middle;\n",
       "    }\n",
       "\n",
       "    .dataframe tbody tr th {\n",
       "        vertical-align: top;\n",
       "    }\n",
       "\n",
       "    .dataframe thead th {\n",
       "        text-align: right;\n",
       "    }\n",
       "</style>\n",
       "<table border=\"1\" class=\"dataframe\">\n",
       "  <thead>\n",
       "    <tr style=\"text-align: right;\">\n",
       "      <th></th>\n",
       "      <th>BABA</th>\n",
       "      <th>TENCENT</th>\n",
       "    </tr>\n",
       "  </thead>\n",
       "  <tbody>\n",
       "    <tr>\n",
       "      <th>2016-01-01 00:00:00</th>\n",
       "      <td>116</td>\n",
       "      <td>43</td>\n",
       "    </tr>\n",
       "    <tr>\n",
       "      <th>2016-01-01 01:00:00</th>\n",
       "      <td>148</td>\n",
       "      <td>41</td>\n",
       "    </tr>\n",
       "    <tr>\n",
       "      <th>2016-01-01 02:00:00</th>\n",
       "      <td>106</td>\n",
       "      <td>35</td>\n",
       "    </tr>\n",
       "    <tr>\n",
       "      <th>2016-01-01 03:00:00</th>\n",
       "      <td>138</td>\n",
       "      <td>40</td>\n",
       "    </tr>\n",
       "    <tr>\n",
       "      <th>2016-01-01 04:00:00</th>\n",
       "      <td>108</td>\n",
       "      <td>48</td>\n",
       "    </tr>\n",
       "  </tbody>\n",
       "</table>\n",
       "</div>"
      ],
      "text/plain": [
       "                     BABA  TENCENT\n",
       "2016-01-01 00:00:00   116       43\n",
       "2016-01-01 01:00:00   148       41\n",
       "2016-01-01 02:00:00   106       35\n",
       "2016-01-01 03:00:00   138       40\n",
       "2016-01-01 04:00:00   108       48"
      ]
     },
     "execution_count": 36,
     "metadata": {},
     "output_type": "execute_result"
    }
   ],
   "source": [
    "stock_df.head()"
   ]
  },
  {
   "cell_type": "code",
   "execution_count": 37,
   "metadata": {},
   "outputs": [
    {
     "data": {
      "text/plain": [
       "<matplotlib.axes._subplots.AxesSubplot at 0x1a50af00978>"
      ]
     },
     "execution_count": 37,
     "metadata": {},
     "output_type": "execute_result"
    },
    {
     "data": {
      "image/png": "[encoded data removed]",
      "text/plain": [
       "<Figure size 432x288 with 1 Axes>"
      ]
     },
     "metadata": {},
     "output_type": "display_data"
    }
   ],
   "source": [
    "stock_df.plot()"
   ]
  },
  {
   "cell_type": "code",
   "execution_count": 26,
   "metadata": {},
   "outputs": [],
   "source": [
    "import matplotlib.pyplot as plt\n",
    "plt.show()"
   ]
  },
  {
   "cell_type": "code",
   "execution_count": 38,
   "metadata": {},
   "outputs": [],
   "source": [
    "weekly_df = DataFrame()"
   ]
  },
  {
   "cell_type": "code",
   "execution_count": 39,
   "metadata": {},
   "outputs": [],
   "source": [
    "weekly_df['BABA'] = stock_df['BABA'].resample('W').mean()"
   ]
  },
  {
   "cell_type": "code",
   "execution_count": 40,
   "metadata": {},
   "outputs": [],
   "source": [
    "weekly_df['TENCENT'] = stock_df['TENCENT'].resample('W').mean()"
   ]
  },
  {
   "cell_type": "code",
   "execution_count": 41,
   "metadata": {},
   "outputs": [
    {
     "data": {
      "text/html": [
       "<div>\n",
       "<style scoped>\n",
       "    .dataframe tbody tr th:only-of-type {\n",
       "        vertical-align: middle;\n",
       "    }\n",
       "\n",
       "    .dataframe tbody tr th {\n",
       "        vertical-align: top;\n",
       "    }\n",
       "\n",
       "    .dataframe thead th {\n",
       "        text-align: right;\n",
       "    }\n",
       "</style>\n",
       "<table border=\"1\" class=\"dataframe\">\n",
       "  <thead>\n",
       "    <tr style=\"text-align: right;\">\n",
       "      <th></th>\n",
       "      <th>BABA</th>\n",
       "      <th>TENCENT</th>\n",
       "    </tr>\n",
       "  </thead>\n",
       "  <tbody>\n",
       "    <tr>\n",
       "      <th>2016-01-03</th>\n",
       "      <td>123.305556</td>\n",
       "      <td>40.291667</td>\n",
       "    </tr>\n",
       "    <tr>\n",
       "      <th>2016-01-10</th>\n",
       "      <td>119.607143</td>\n",
       "      <td>40.053571</td>\n",
       "    </tr>\n",
       "    <tr>\n",
       "      <th>2016-01-17</th>\n",
       "      <td>118.839286</td>\n",
       "      <td>39.053571</td>\n",
       "    </tr>\n",
       "    <tr>\n",
       "      <th>2016-01-24</th>\n",
       "      <td>122.297619</td>\n",
       "      <td>39.946429</td>\n",
       "    </tr>\n",
       "    <tr>\n",
       "      <th>2016-01-31</th>\n",
       "      <td>119.273810</td>\n",
       "      <td>39.678571</td>\n",
       "    </tr>\n",
       "  </tbody>\n",
       "</table>\n",
       "</div>"
      ],
      "text/plain": [
       "                  BABA    TENCENT\n",
       "2016-01-03  123.305556  40.291667\n",
       "2016-01-10  119.607143  40.053571\n",
       "2016-01-17  118.839286  39.053571\n",
       "2016-01-24  122.297619  39.946429\n",
       "2016-01-31  119.273810  39.678571"
      ]
     },
     "execution_count": 41,
     "metadata": {},
     "output_type": "execute_result"
    }
   ],
   "source": [
    "weekly_df.head()"
   ]
  },
  {
   "cell_type": "code",
   "execution_count": 42,
   "metadata": {},
   "outputs": [
    {
     "data": {
      "text/plain": [
       "<matplotlib.axes._subplots.AxesSubplot at 0x1a50c124828>"
      ]
     },
     "execution_count": 42,
     "metadata": {},
     "output_type": "execute_result"
    },
    {
     "data": {
      "image/png": "[encoded data removed]",
      "text/plain": [
       "<Figure size 432x288 with 1 Axes>"
      ]
     },
     "metadata": {},
     "output_type": "display_data"
    }
   ],
   "source": [
    "weekly_df.plot()"
   ]
  },
  {
   "cell_type": "code",
   "execution_count": 43,
   "metadata": {},
   "outputs": [],
   "source": [
    "plt.show()"
   ]
  },
  {
   "cell_type": "code",
   "execution_count": null,
   "metadata": {
    "collapsed": true
   },
   "outputs": [],
   "source": []
  }
 ],
 "metadata": {
  "kernelspec": {
   "display_name": "Python 3",
   "language": "python",
   "name": "python3"
  },
  "language_info": {
   "codemirror_mode": {
    "name": "ipython",
    "version": 3
   },
   "file_extension": ".py",
   "mimetype": "text/x-python",
   "name": "python",
   "nbconvert_exporter": "python",
   "pygments_lexer": "ipython3",
   "version": "3.6.5"
  }
 },
 "nbformat": 4,
 "nbformat_minor": 2
}
